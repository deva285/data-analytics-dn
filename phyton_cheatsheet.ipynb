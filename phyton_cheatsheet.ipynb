{
  "nbformat": 4,
  "nbformat_minor": 0,
  "metadata": {
    "colab": {
      "provenance": [],
      "authorship_tag": "ABX9TyPKPFuNOZT6RGaUgGa3aq3e",
      "include_colab_link": true
    },
    "kernelspec": {
      "name": "python3",
      "display_name": "Python 3"
    },
    "language_info": {
      "name": "python"
    }
  },
  "cells": [
    {
      "cell_type": "markdown",
      "metadata": {
        "id": "view-in-github",
        "colab_type": "text"
      },
      "source": [
        "<a href=\"https://colab.research.google.com/github/deva285/data-analytics-dn/blob/main/phyton_cheatsheet.ipynb\" target=\"_parent\"><img src=\"https://colab.research.google.com/assets/colab-badge.svg\" alt=\"Open In Colab\"/></a>"
      ]
    },
    {
      "cell_type": "code",
      "execution_count": 2,
      "metadata": {
        "id": "KhS8PDaz22Ow"
      },
      "outputs": [],
      "source": [
        "import pandas as pd\n",
        "from tabulate import tabulate\n",
        "import traceback\n",
        "import numpy as np\n",
        "import matplotlib.pyplot as plt\n",
        "from requests import get\n",
        "import requests\n",
        "import os\n"
      ]
    },
    {
      "cell_type": "code",
      "source": [
        "lst_names = []\n",
        "lst_cities = [\"Bangalore\", \"Chennai\", \"SFO\", \"Beijing\"]\n",
        "lst_cities.append(\"NYC\")\n",
        "lst_age = [10, 20]\n",
        "lst_age.append(30)\n",
        "for val in lst_cities:\n",
        " print(val)\n",
        "if\"SFO\" in lst_cities:\n",
        " print(\"yes\")\n",
        "else:\n",
        " print(\"no\")\n"
      ],
      "metadata": {
        "id": "L8zDzcz33AkJ",
        "colab": {
          "base_uri": "https://localhost:8080/"
        },
        "outputId": "2edf3c20-69a5-4ee1-88d7-d9837bc152eb"
      },
      "execution_count": 6,
      "outputs": [
        {
          "output_type": "stream",
          "name": "stdout",
          "text": [
            "Bangalore\n",
            "Chennai\n",
            "SFO\n",
            "Beijing\n",
            "NYC\n",
            "yes\n"
          ]
        }
      ]
    },
    {
      "cell_type": "code",
      "source": [
        "lst_pets = [\"dog\", \"cat\"]\n",
        "for i, value in enumerate(lst_pets):\n",
        " print(f\"At index {i}, the value in the list is {value}\")"
      ],
      "metadata": {
        "colab": {
          "base_uri": "https://localhost:8080/"
        },
        "id": "RRiqy_E8z4mo",
        "outputId": "d49d4305-868a-4f62-98e7-47c5c699de67"
      },
      "execution_count": 8,
      "outputs": [
        {
          "output_type": "stream",
          "name": "stdout",
          "text": [
            "At index 0, the value in the list is dog\n",
            "At index 1, the value in the list is cat\n"
          ]
        }
      ]
    },
    {
      "cell_type": "code",
      "source": [
        "lst_pets = [\"dog\", \"cat\"]\n",
        "for i, value in enumerate(lst_pets):\n",
        " print(f\"At index {i}, the value in the list is {len(value)}\")"
      ],
      "metadata": {
        "colab": {
          "base_uri": "https://localhost:8080/"
        },
        "id": "OJe-Qgt80rIb",
        "outputId": "7cd5ecfa-9bec-4653-e07c-ff1d3282e0de"
      },
      "execution_count": 10,
      "outputs": [
        {
          "output_type": "stream",
          "name": "stdout",
          "text": [
            "At index 0, the value in the list is 3\n",
            "At index 1, the value in the list is 3\n"
          ]
        }
      ]
    },
    {
      "cell_type": "code",
      "source": [
        "\n",
        "set_cities = [\"Bangalore\", \"Chennai\", \"SFO\", \"Beijing\"]\n",
        "set_cities.append(\"NYC\")\n",
        "set_age = [10, 20]\n",
        "set_age.append(30)\n",
        "print(set_cities)\n",
        "print(set_age)\n",
        ""
      ],
      "metadata": {
        "colab": {
          "base_uri": "https://localhost:8080/"
        },
        "id": "vmexdMhQ1voP",
        "outputId": "d9410f3a-f998-43aa-e517-e6170edc1a90"
      },
      "execution_count": 13,
      "outputs": [
        {
          "output_type": "stream",
          "name": "stdout",
          "text": [
            "['Bangalore', 'Chennai', 'SFO', 'Beijing', 'NYC']\n",
            "[10, 20, 30]\n"
          ]
        }
      ]
    },
    {
      "cell_type": "code",
      "source": [
        "dict_data = {}\n",
        "dict_data['pet'] = []\n",
        "dict_data['pet'].append({\n",
        "    'name': 'Dog',\n",
        "    'website': 'doggy.com',\n",
        "    'from': 'England'\n",
        "})\n",
        "dict_data['pet'].append({\n",
        "    'name' : 'giniger',\n",
        "    'website': 'ramo.com',\n",
        "    'from': 'Austin'\n",
        "})\n",
        "print(dict_data)\n",
        "print(type(dict_data))\n",
        ""
      ],
      "metadata": {
        "colab": {
          "base_uri": "https://localhost:8080/"
        },
        "id": "fYhbYfSj4kdk",
        "outputId": "8511b0d9-b30d-4dec-d549-01c86741ec05"
      },
      "execution_count": 15,
      "outputs": [
        {
          "output_type": "stream",
          "name": "stdout",
          "text": [
            "{'pet': [{'name': 'Dog', 'website': 'doggy.com', 'from': 'England'}, {'name': 'giniger', 'website': 'ramo.com', 'from': 'Austin'}]}\n",
            "<class 'dict'>\n"
          ]
        }
      ]
    }
  ]
}