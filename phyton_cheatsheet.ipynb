{
  "nbformat": 4,
  "nbformat_minor": 0,
  "metadata": {
    "colab": {
      "provenance": [],
      "authorship_tag": "ABX9TyPs9pi1DsZG7TTgDerTeilT",
      "include_colab_link": true
    },
    "kernelspec": {
      "name": "python3",
      "display_name": "Python 3"
    },
    "language_info": {
      "name": "python"
    }
  },
  "cells": [
    {
      "cell_type": "markdown",
      "metadata": {
        "id": "view-in-github",
        "colab_type": "text"
      },
      "source": [
        "<a href=\"https://colab.research.google.com/github/deva285/data-analytics-dn/blob/main/phyton_cheatsheet.ipynb\" target=\"_parent\"><img src=\"https://colab.research.google.com/assets/colab-badge.svg\" alt=\"Open In Colab\"/></a>"
      ]
    },
    {
      "cell_type": "code",
      "execution_count": null,
      "metadata": {
        "id": "KhS8PDaz22Ow"
      },
      "outputs": [],
      "source": [
        "import pandas as pd\n",
        "from tabulate import tabulate\n",
        "import traceback\n",
        "import numpy as np\n",
        "import matplotlib.pyplot as plt\n",
        "from requests import get\n",
        "import requests\n",
        "import os\n"
      ]
    },
    {
      "cell_type": "code",
      "source": [
        "lst_names = []\n",
        "lst_cities = [\"Bangalore\", \"Chennai\", \"SFO\", \"Beijing\"]\n",
        "lst_cities.append(\"NYC\")\n",
        "lst_age = [10, 20]\n",
        "lst_age.append(30)\n",
        "for val in lst_cities:\n",
        " print(val)\n",
        "if\"SFO\" in lst_cities:\n",
        " print(\"yes\")\n",
        "else:\n",
        " print(\"no\")\n"
      ],
      "metadata": {
        "id": "L8zDzcz33AkJ",
        "colab": {
          "base_uri": "https://localhost:8080/"
        },
        "outputId": "2edf3c20-69a5-4ee1-88d7-d9837bc152eb"
      },
      "execution_count": null,
      "outputs": [
        {
          "output_type": "stream",
          "name": "stdout",
          "text": [
            "Bangalore\n",
            "Chennai\n",
            "SFO\n",
            "Beijing\n",
            "NYC\n",
            "yes\n"
          ]
        }
      ]
    },
    {
      "cell_type": "code",
      "source": [
        "lst_pets = [\"dog\", \"cat\"]\n",
        "for i, value in enumerate(lst_pets):\n",
        " print(f\"At index {i}, the value in the list is {value}\")"
      ],
      "metadata": {
        "colab": {
          "base_uri": "https://localhost:8080/"
        },
        "id": "RRiqy_E8z4mo",
        "outputId": "d49d4305-868a-4f62-98e7-47c5c699de67"
      },
      "execution_count": null,
      "outputs": [
        {
          "output_type": "stream",
          "name": "stdout",
          "text": [
            "At index 0, the value in the list is dog\n",
            "At index 1, the value in the list is cat\n"
          ]
        }
      ]
    },
    {
      "cell_type": "code",
      "source": [
        "lst_pets = [\"dog\", \"cat\"]\n",
        "for i, value in enumerate(lst_pets):\n",
        " print(f\"At index {i}, the value in the list is {len(value)}\")"
      ],
      "metadata": {
        "colab": {
          "base_uri": "https://localhost:8080/"
        },
        "id": "OJe-Qgt80rIb",
        "outputId": "7cd5ecfa-9bec-4653-e07c-ff1d3282e0de"
      },
      "execution_count": null,
      "outputs": [
        {
          "output_type": "stream",
          "name": "stdout",
          "text": [
            "At index 0, the value in the list is 3\n",
            "At index 1, the value in the list is 3\n"
          ]
        }
      ]
    },
    {
      "cell_type": "code",
      "source": [
        "\n",
        "set_cities = [\"Bangalore\", \"Chennai\", \"SFO\", \"Beijing\"]\n",
        "set_cities.append(\"NYC\")\n",
        "set_age = [10, 20]\n",
        "set_age.append(30)\n",
        "print(set_cities)\n",
        "print(set_age)\n"
      ],
      "metadata": {
        "colab": {
          "base_uri": "https://localhost:8080/"
        },
        "id": "vmexdMhQ1voP",
        "outputId": "d9410f3a-f998-43aa-e517-e6170edc1a90"
      },
      "execution_count": null,
      "outputs": [
        {
          "output_type": "stream",
          "name": "stdout",
          "text": [
            "['Bangalore', 'Chennai', 'SFO', 'Beijing', 'NYC']\n",
            "[10, 20, 30]\n"
          ]
        }
      ]
    },
    {
      "cell_type": "code",
      "source": [
        "dict_data = {}\n",
        "dict_data['pet'] = []\n",
        "dict_data['pet'].append({\n",
        "    'name': 'Dog',\n",
        "    'website': 'doggy.com',\n",
        "    'from': 'England'\n",
        "})\n",
        "dict_data['pet'].append({\n",
        "    'name' : 'giniger',\n",
        "    'website': 'ramo.com',\n",
        "    'from': 'Austin'\n",
        "})\n",
        "print(dict_data)\n",
        "print(type(dict_data))\n"
      ],
      "metadata": {
        "colab": {
          "base_uri": "https://localhost:8080/"
        },
        "id": "fYhbYfSj4kdk",
        "outputId": "8511b0d9-b30d-4dec-d549-01c86741ec05"
      },
      "execution_count": null,
      "outputs": [
        {
          "output_type": "stream",
          "name": "stdout",
          "text": [
            "{'pet': [{'name': 'Dog', 'website': 'doggy.com', 'from': 'England'}, {'name': 'giniger', 'website': 'ramo.com', 'from': 'Austin'}]}\n",
            "<class 'dict'>\n"
          ]
        }
      ]
    },
    {
      "cell_type": "code",
      "source": [
        "dict_course ={'Sub':'Evs','Topic':'Globa warming','Level':'Easy'}\n",
        "print(dict_course)\n",
        "print(type(dict_course))\n"
      ],
      "metadata": {
        "colab": {
          "base_uri": "https://localhost:8080/"
        },
        "id": "8HMTb7xLprZH",
        "outputId": "004a0a3d-7883-458f-a743-02e6f2b3d784"
      },
      "execution_count": null,
      "outputs": [
        {
          "output_type": "stream",
          "name": "stdout",
          "text": [
            "{'Sub': 'Evs', 'Topic': 'Globa warming', 'Level': 'Easy'}\n",
            "<class 'dict'>\n"
          ]
        }
      ]
    },
    {
      "cell_type": "code",
      "source": [
        "print(dict_course['Topic'])"
      ],
      "metadata": {
        "colab": {
          "base_uri": "https://localhost:8080/"
        },
        "id": "VBgUDE3ap19b",
        "outputId": "7d044d75-91c2-4e55-d3a2-ee10cd1ee6e1"
      },
      "execution_count": null,
      "outputs": [
        {
          "output_type": "stream",
          "name": "stdout",
          "text": [
            "Globa warming\n"
          ]
        }
      ]
    },
    {
      "cell_type": "code",
      "source": [
        "for key, value in dict_course.items():\n",
        "  print(value)\n"
      ],
      "metadata": {
        "colab": {
          "base_uri": "https://localhost:8080/"
        },
        "id": "68tKmHxmqHcK",
        "outputId": "9c2452f1-a52c-4b3f-d830-425483d59a32"
      },
      "execution_count": null,
      "outputs": [
        {
          "output_type": "stream",
          "name": "stdout",
          "text": [
            "Evs\n",
            "Globa warming\n",
            "Easy\n"
          ]
        }
      ]
    },
    {
      "cell_type": "code",
      "source": [
        "lst_pet_types = [\"Dog\", \"Tiger\", \"Elephant\",\"tycoon\"]\n",
        "c_pet_types = len(lst_pet_types)\n",
        "print(f\"# pet types: {c_pet_types}\")\n",
        "dict_pets = {\"name\": \"Dog\", \"age\": 2}\n",
        "c_pets = len(dict_pets)\n",
        "print(f\"# pets: {c_pets}\")\n",
        "dict_pets = {\"pets\": [{\"name\": \"Dog\", \"age\": 2}, {\"name\": \"Dog\", \"age\": 2}]}\n",
        "dict_p_h = {\"pets\": [{\"name\": \"Dog\", \"age\": 2}, {\"name\": \"Dog\", \"age\": 2}],\n",
        "            \"persons\": [{\"name\": \"rava\", \"age\": 20}, {\"name\": \"jason\", \"age\": 14}]}\n",
        "c_pets, c_humans = len(dict_pets), len(dict_p_h)\n",
        "print(f\"# pets: {c_pets} ; # humans: {c_humans}\")\n",
        "lst_keys = [*dict_p_h]\n",
        "lst_values = [*dict_p_h.values()]\n",
        "print(f\"# keys: {len(lst_keys)} | # values: {len(lst_values)}\")\n",
        "print(f\"keys: {lst_keys} | values: {lst_values}\")\n"
      ],
      "metadata": {
        "colab": {
          "base_uri": "https://localhost:8080/"
        },
        "id": "1Sfi39-JtRiJ",
        "outputId": "da3c5aab-29ec-417c-9d40-bb241a956e0e"
      },
      "execution_count": null,
      "outputs": [
        {
          "output_type": "stream",
          "name": "stdout",
          "text": [
            "# pet types: 4\n",
            "# pets: 2\n",
            "# pets: 1 ; # humans: 2\n",
            "# keys: 2 | # values: 2\n",
            "keys: ['pets', 'persons'] | values: [[{'name': 'Dog', 'age': 2}, {'name': 'Dog', 'age': 2}], [{'name': 'rava', 'age': 20}, {'name': 'jason', 'age': 14}]]\n"
          ]
        }
      ]
    },
    {
      "cell_type": "code",
      "source": [
        "txt = \" Moscow \"\n",
        "str_clean = txt.strip()\n",
        "print(f\"From weather report, {str_clean} is too cold most of the times\")"
      ],
      "metadata": {
        "colab": {
          "base_uri": "https://localhost:8080/"
        },
        "id": "-Yhlz_atujL2",
        "outputId": "1f31c57f-903b-47bd-d38a-5f3901458cdf"
      },
      "execution_count": null,
      "outputs": [
        {
          "output_type": "stream",
          "name": "stdout",
          "text": [
            "From weather report, Moscow is too cold most of the times\n"
          ]
        }
      ]
    },
    {
      "cell_type": "code",
      "source": [
        "import csv\n"
      ],
      "metadata": {
        "id": "TZMjFY0AyOHg"
      },
      "execution_count": null,
      "outputs": []
    },
    {
      "cell_type": "code",
      "source": [
        "import sys"
      ],
      "metadata": {
        "id": "AcJ2Dj2QygJG"
      },
      "execution_count": null,
      "outputs": []
    },
    {
      "cell_type": "code",
      "source": [
        "print(sys.version)"
      ],
      "metadata": {
        "colab": {
          "base_uri": "https://localhost:8080/"
        },
        "id": "bJeO1MYhymeU",
        "outputId": "8f8b3fcf-b636-4f64-90c9-3cf32b5eb64e"
      },
      "execution_count": null,
      "outputs": [
        {
          "output_type": "stream",
          "name": "stdout",
          "text": [
            "3.10.12 (main, Jul 29 2024, 16:56:48) [GCC 11.4.0]\n"
          ]
        }
      ]
    },
    {
      "cell_type": "code",
      "source": [
        "num_person = \"10\"\n",
        "print(f\"Type of num_person: {type(num_person)}\")"
      ],
      "metadata": {
        "colab": {
          "base_uri": "https://localhost:8080/"
        },
        "id": "Eo5WHZlhzHPv",
        "outputId": "d0e666a0-0485-4ef3-d0e9-cf5995dcf052"
      },
      "execution_count": null,
      "outputs": [
        {
          "output_type": "stream",
          "name": "stdout",
          "text": [
            "Type of num_person: <class 'str'>\n"
          ]
        }
      ]
    },
    {
      "cell_type": "code",
      "source": [
        "import pandas as pd\n",
        "lst = {'mech':['ansys','for','stress','analysis']}\n",
        "df = pd.DataFrame(lst)\n",
        "print(df)\n"
      ],
      "metadata": {
        "colab": {
          "base_uri": "https://localhost:8080/"
        },
        "id": "g3Y2DWu22jTN",
        "outputId": "97728952-38c4-4c5d-c1f3-f7f0d6e87759"
      },
      "execution_count": null,
      "outputs": [
        {
          "output_type": "stream",
          "name": "stdout",
          "text": [
            "       mech\n",
            "0     ansys\n",
            "1       for\n",
            "2    stress\n",
            "3  analysis\n"
          ]
        }
      ]
    },
    {
      "cell_type": "code",
      "source": [
        "lst_tree= ['mango','apple','banana']\n",
        "uk=','.join(lst_tree)\n",
        "print(uk)"
      ],
      "metadata": {
        "colab": {
          "base_uri": "https://localhost:8080/"
        },
        "id": "v_OMckuiaKEA",
        "outputId": "9f9a4ef7-d3bb-4d86-aeb7-c02590195928"
      },
      "execution_count": null,
      "outputs": [
        {
          "output_type": "stream",
          "name": "stdout",
          "text": [
            "mango,apple,banana\n"
          ]
        }
      ]
    },
    {
      "cell_type": "code",
      "source": [
        "import os\n",
        "import json\n",
        "\n",
        "\n",
        "path_in_pet = \"data.join\"\n",
        "if os.path.exists(path_in_pet):\n",
        "  with open(path_in_pet, 'r') as f:\n",
        "    dict_data = json.load(f)\n",
        "    print(type(dict_data))\n",
        "    print(dict_data)\n",
        "else:\n",
        "  print(\"File not found\")"
      ],
      "metadata": {
        "colab": {
          "base_uri": "https://localhost:8080/"
        },
        "id": "LnGMiGazfTIJ",
        "outputId": "9a297eed-86d9-40e2-8130-dd22a1f4ce83"
      },
      "execution_count": null,
      "outputs": [
        {
          "output_type": "stream",
          "name": "stdout",
          "text": [
            "File not found\n"
          ]
        }
      ]
    },
    {
      "cell_type": "code",
      "source": [
        "import pandas as pd\n",
        "\n",
        "lst_boys = {\n",
        "    'Sport_boys': [\n",
        "        {'Name': 'Jake', 'age': 16},\n",
        "        {'Name': 'Tom', 'age': 18}\n",
        "    ],\n",
        "    'Music_boys': [\n",
        "        {'Name': 'Mike', 'age': 17},\n",
        "        {'Name': 'John', 'age': 19}\n",
        "    ]\n",
        "}\n",
        "\n",
        "data = []\n",
        "for Category, boys in lst_boys.items():\n",
        "    for boy in boys:\n",
        "        boy['Category'] = Category\n",
        "        data.append(boy)\n",
        "\n",
        "df = pd.DataFrame(data)\n",
        "print(df)"
      ],
      "metadata": {
        "colab": {
          "base_uri": "https://localhost:8080/"
        },
        "id": "x81nERDTwYRl",
        "outputId": "e8ca13b7-813b-4304-f2d0-b3f178f08b9b"
      },
      "execution_count": null,
      "outputs": [
        {
          "output_type": "stream",
          "name": "stdout",
          "text": [
            "   Name  age    Category\n",
            "0  Jake   16  Sport_boys\n",
            "1   Tom   18  Sport_boys\n",
            "2  Mike   17  Music_boys\n",
            "3  John   19  Music_boys\n"
          ]
        }
      ]
    },
    {
      "cell_type": "code",
      "source": [
        "import pandas as pd\n",
        "data = {'name': ['selva', 'Santhom', 'Lokesh'],\n",
        "        'age': [34, 20, 80]}\n",
        "df = pd.DataFrame(data)\n",
        "df[\"age_normalized\"] = df[\"age\"] / df[\"age\"].max()\n",
        "print(df)"
      ],
      "metadata": {
        "colab": {
          "base_uri": "https://localhost:8080/"
        },
        "id": "vVeCEfuOxrtM",
        "outputId": "0fae5daf-140f-4b18-8187-015fdefb8c37"
      },
      "execution_count": null,
      "outputs": [
        {
          "output_type": "stream",
          "name": "stdout",
          "text": [
            "      name  age  age_normalized\n",
            "0    selva   34           0.425\n",
            "1  Santhom   20           0.250\n",
            "2   Lokesh   80           1.000\n"
          ]
        }
      ]
    },
    {
      "cell_type": "code",
      "source": [
        "import re\n",
        "\n",
        "in_str = \"The prices are 1000 and 2023 dollars.\"\n",
        "\n",
        "str_clean = re.sub(r'\\d+', '-', in_str)\n",
        "\n",
        "print(str_clean)\n"
      ],
      "metadata": {
        "colab": {
          "base_uri": "https://localhost:8080/"
        },
        "id": "X2ANLo5IyZsI",
        "outputId": "deff86f5-447c-4d16-d28d-864a903b736b"
      },
      "execution_count": null,
      "outputs": [
        {
          "output_type": "stream",
          "name": "stdout",
          "text": [
            "The prices are - and - dollars.\n"
          ]
        }
      ]
    },
    {
      "cell_type": "code",
      "source": [
        "import pandas as pd\n",
        "\n",
        "data = {\n",
        "    'State': ['Texas', 'Texas', 'California', 'California', 'New York', 'New York', 'Texas', 'California'],\n",
        "    'Age Group': ['18-24', '25-34', '18-24', '25-34', '18-24', '25-34', '35-44', '35-44']\n",
        "}\n",
        "df = pd.DataFrame(data)\n",
        "\n",
        "df_age_group_count = (\n",
        "    df.groupby(['State', 'Age Group'])\n",
        "    .size()\n",
        "    .to_frame('count')\n",
        "    .reset_index()\n",
        ")\n",
        "\n",
        "df_sorted = df_age_group_count.sort_values(by=['State', 'count'], ascending=[True, False])\n",
        "\n",
        "df_sorted['rank'] = df_sorted.groupby('State')['count'].rank(ascending=False, method='min')\n",
        "\n",
        "df_sorted['pct_rank'] = df_sorted.groupby('State')['count'].rank(pct=True) * 100\n",
        "\n",
        "print(df_sorted)\n"
      ],
      "metadata": {
        "colab": {
          "base_uri": "https://localhost:8080/"
        },
        "id": "ElvihHwHzVNU",
        "outputId": "b5517122-470e-436a-f980-325d15072469"
      },
      "execution_count": null,
      "outputs": [
        {
          "output_type": "stream",
          "name": "stdout",
          "text": [
            "        State Age Group  count  rank   pct_rank\n",
            "0  California     18-24      1   1.0  66.666667\n",
            "1  California     25-34      1   1.0  66.666667\n",
            "2  California     35-44      1   1.0  66.666667\n",
            "3    New York     18-24      1   1.0  75.000000\n",
            "4    New York     25-34      1   1.0  75.000000\n",
            "5       Texas     18-24      1   1.0  66.666667\n",
            "6       Texas     25-34      1   1.0  66.666667\n",
            "7       Texas     35-44      1   1.0  66.666667\n"
          ]
        }
      ]
    },
    {
      "cell_type": "code",
      "source": [
        "import pandas as pd\n",
        "\n",
        "lst_boys = {\n",
        "    'Sport_boys': [\n",
        "        {'Name': 'raju', 'age': 16},\n",
        "        {'Name': 'jangi', 'age': 18}\n",
        "    ],\n",
        "    'Music_boys': [\n",
        "        {'Name': 'Megan', 'age': 17},\n",
        "        {'Name': 'ninja', 'age': 19}\n",
        "    ]\n",
        "}\n",
        "\n",
        "data = []\n",
        "for Category, boys in lst_boys.items():\n",
        "    for boy in boys:\n",
        "        boy['Category'] = Category\n",
        "        data.append(boy)\n",
        "\n",
        "df = pd.DataFrame(data)\n",
        "\n",
        "print(\"Original DataFrame:\")\n",
        "print(df)\n",
        "\n",
        "df.rename(columns={\n",
        "    'Name': 'Boy_Name',\n",
        "    'age': 'Boy_Age',\n",
        "    'Category': 'Interest_Category'\n",
        "}, inplace=True)\n",
        "\n",
        "print(\"\\nDataFrame with Renamed Columns:\")\n",
        "print(df)\n"
      ],
      "metadata": {
        "colab": {
          "base_uri": "https://localhost:8080/"
        },
        "id": "eOHz-gDq03Cr",
        "outputId": "d571f07d-a428-4268-9d06-42410e5cc9d9"
      },
      "execution_count": null,
      "outputs": [
        {
          "output_type": "stream",
          "name": "stdout",
          "text": [
            "Original DataFrame:\n",
            "    Name  age    Category\n",
            "0   raju   16  Sport_boys\n",
            "1  jangi   18  Sport_boys\n",
            "2  Megan   17  Music_boys\n",
            "3  ninja   19  Music_boys\n",
            "\n",
            "DataFrame with Renamed Columns:\n",
            "  Boy_Name  Boy_Age Interest_Category\n",
            "0     raju       16        Sport_boys\n",
            "1    jangi       18        Sport_boys\n",
            "2    Megan       17        Music_boys\n",
            "3    ninja       19        Music_boys\n"
          ]
        }
      ]
    }
  ]
}