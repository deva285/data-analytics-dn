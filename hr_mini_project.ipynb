{
  "nbformat": 4,
  "nbformat_minor": 0,
  "metadata": {
    "colab": {
      "provenance": [],
      "authorship_tag": "ABX9TyNPGOo0ajkm1LkZJxHwF9q0",
      "include_colab_link": true
    },
    "kernelspec": {
      "name": "python3",
      "display_name": "Python 3"
    },
    "language_info": {
      "name": "python"
    }
  },
  "cells": [
    {
      "cell_type": "markdown",
      "metadata": {
        "id": "view-in-github",
        "colab_type": "text"
      },
      "source": [
        "<a href=\"https://colab.research.google.com/github/deva285/data-analytics-dn/blob/main/hr_mini_project.ipynb\" target=\"_parent\"><img src=\"https://colab.research.google.com/assets/colab-badge.svg\" alt=\"Open In Colab\"/></a>"
      ]
    },
    {
      "cell_type": "code",
      "source": [
        "from google.colab import drive\n",
        "drive.mount('/content/drive')\n"
      ],
      "metadata": {
        "colab": {
          "base_uri": "https://localhost:8080/"
        },
        "id": "M5Ky0_HJaaUr",
        "outputId": "c2a340ac-29bd-45da-b645-2a3dca78ab86"
      },
      "execution_count": 1,
      "outputs": [
        {
          "output_type": "stream",
          "name": "stdout",
          "text": [
            "Mounted at /content/drive\n"
          ]
        }
      ]
    },
    {
      "cell_type": "code",
      "source": [
        "!ls -ltr /content/drive/MyDrive/dataset/dataset_csv/\n"
      ],
      "metadata": {
        "colab": {
          "base_uri": "https://localhost:8080/"
        },
        "id": "osbAP6Brchpg",
        "outputId": "dc217b9a-dddb-4f6f-e121-2b6daf17b4f5"
      },
      "execution_count": 2,
      "outputs": [
        {
          "output_type": "stream",
          "name": "stdout",
          "text": [
            "total 52\n",
            "dr-x------ 2 root root 4096 Feb 26  2022 dataset-titanic\n",
            "dr-x------ 2 root root 4096 Feb 26  2022 dataset-powerlifting-csv\n",
            "dr-x------ 2 root root 4096 Feb 26  2022 dataset_open_crime_uk\n",
            "dr-x------ 2 root root 4096 Feb 26  2022 dataset-google-scholar\n",
            "dr-x------ 2 root root 4096 Feb 26  2022 dataset_ebola\n",
            "dr-x------ 2 root root 4096 Feb 26  2022 dataset-domestic-flights-from-1990-to-2009\n",
            "dr-x------ 2 root root 4096 Feb 26  2022 dataset-covid-2\n",
            "dr-x------ 2 root root 4096 Feb 26  2022 dataset-covid\n",
            "dr-x------ 2 root root 4096 Feb 26  2022 dataset-airports\n",
            "dr-x------ 2 root root 4096 Mar  5  2022 dataset-world-economy-worldbank\n",
            "dr-x------ 2 root root 4096 Jun 21  2023 dataset-hr\n",
            "dr-x------ 2 root root 4096 Nov 11  2023 dataset-forest-fire\n",
            "dr-x------ 2 root root 4096 Jul 10 17:07 dataset-museum-artifacts\n"
          ]
        }
      ]
    },
    {
      "cell_type": "code",
      "source": [
        "import csv\n",
        "import re\n",
        "import traceback\n",
        "from tabulate import tabulate\n",
        "import pandas as pd\n",
        "import numpy as np\n",
        "import datetime\n",
        "import matplotlib.pyplot as plt\n",
        "import seaborn as sns\n",
        "from datetime import datetime\n",
        "from IPython.core.interactiveshell import InteractiveShell # Capitalize 'I' in 'IPython'\n",
        "InteractiveShell.ast_node_interactivity = \"all\""
      ],
      "metadata": {
        "id": "NXBJ4K5rdsPL"
      },
      "execution_count": 3,
      "outputs": []
    },
    {
      "cell_type": "code",
      "source": [
        "df= pd.read_csv(\"/content/drive/MyDrive/dataset/dataset_csv/dataset-hr/HR_comma_sep.csv\")\n",
        "df.head(5)"
      ],
      "metadata": {
        "colab": {
          "base_uri": "https://localhost:8080/",
          "height": 226
        },
        "id": "qhdt7r1vez-_",
        "outputId": "2697b1cd-f878-4914-db72-63830525792f"
      },
      "execution_count": 4,
      "outputs": [
        {
          "output_type": "execute_result",
          "data": {
            "text/plain": [
              "   satisfaction_level  last_evaluation  number_project  average_montly_hours  \\\n",
              "0                0.38             0.53               2                   157   \n",
              "1                0.80             0.86               5                   262   \n",
              "2                0.11             0.88               7                   272   \n",
              "3                0.72             0.87               5                   223   \n",
              "4                0.37             0.52               2                   159   \n",
              "\n",
              "   time_spend_company  Work_accident  left  promotion_last_5years  sales  \\\n",
              "0                   3              0     1                      0  sales   \n",
              "1                   6              0     1                      0  sales   \n",
              "2                   4              0     1                      0  sales   \n",
              "3                   5              0     1                      0  sales   \n",
              "4                   3              0     1                      0  sales   \n",
              "\n",
              "   salary  \n",
              "0     low  \n",
              "1  medium  \n",
              "2  medium  \n",
              "3     low  \n",
              "4     low  "
            ],
            "text/html": [
              "\n",
              "  <div id=\"df-381cf551-399d-4231-a78f-2c531ae98db7\" class=\"colab-df-container\">\n",
              "    <div>\n",
              "<style scoped>\n",
              "    .dataframe tbody tr th:only-of-type {\n",
              "        vertical-align: middle;\n",
              "    }\n",
              "\n",
              "    .dataframe tbody tr th {\n",
              "        vertical-align: top;\n",
              "    }\n",
              "\n",
              "    .dataframe thead th {\n",
              "        text-align: right;\n",
              "    }\n",
              "</style>\n",
              "<table border=\"1\" class=\"dataframe\">\n",
              "  <thead>\n",
              "    <tr style=\"text-align: right;\">\n",
              "      <th></th>\n",
              "      <th>satisfaction_level</th>\n",
              "      <th>last_evaluation</th>\n",
              "      <th>number_project</th>\n",
              "      <th>average_montly_hours</th>\n",
              "      <th>time_spend_company</th>\n",
              "      <th>Work_accident</th>\n",
              "      <th>left</th>\n",
              "      <th>promotion_last_5years</th>\n",
              "      <th>sales</th>\n",
              "      <th>salary</th>\n",
              "    </tr>\n",
              "  </thead>\n",
              "  <tbody>\n",
              "    <tr>\n",
              "      <th>0</th>\n",
              "      <td>0.38</td>\n",
              "      <td>0.53</td>\n",
              "      <td>2</td>\n",
              "      <td>157</td>\n",
              "      <td>3</td>\n",
              "      <td>0</td>\n",
              "      <td>1</td>\n",
              "      <td>0</td>\n",
              "      <td>sales</td>\n",
              "      <td>low</td>\n",
              "    </tr>\n",
              "    <tr>\n",
              "      <th>1</th>\n",
              "      <td>0.80</td>\n",
              "      <td>0.86</td>\n",
              "      <td>5</td>\n",
              "      <td>262</td>\n",
              "      <td>6</td>\n",
              "      <td>0</td>\n",
              "      <td>1</td>\n",
              "      <td>0</td>\n",
              "      <td>sales</td>\n",
              "      <td>medium</td>\n",
              "    </tr>\n",
              "    <tr>\n",
              "      <th>2</th>\n",
              "      <td>0.11</td>\n",
              "      <td>0.88</td>\n",
              "      <td>7</td>\n",
              "      <td>272</td>\n",
              "      <td>4</td>\n",
              "      <td>0</td>\n",
              "      <td>1</td>\n",
              "      <td>0</td>\n",
              "      <td>sales</td>\n",
              "      <td>medium</td>\n",
              "    </tr>\n",
              "    <tr>\n",
              "      <th>3</th>\n",
              "      <td>0.72</td>\n",
              "      <td>0.87</td>\n",
              "      <td>5</td>\n",
              "      <td>223</td>\n",
              "      <td>5</td>\n",
              "      <td>0</td>\n",
              "      <td>1</td>\n",
              "      <td>0</td>\n",
              "      <td>sales</td>\n",
              "      <td>low</td>\n",
              "    </tr>\n",
              "    <tr>\n",
              "      <th>4</th>\n",
              "      <td>0.37</td>\n",
              "      <td>0.52</td>\n",
              "      <td>2</td>\n",
              "      <td>159</td>\n",
              "      <td>3</td>\n",
              "      <td>0</td>\n",
              "      <td>1</td>\n",
              "      <td>0</td>\n",
              "      <td>sales</td>\n",
              "      <td>low</td>\n",
              "    </tr>\n",
              "  </tbody>\n",
              "</table>\n",
              "</div>\n",
              "    <div class=\"colab-df-buttons\">\n",
              "\n",
              "  <div class=\"colab-df-container\">\n",
              "    <button class=\"colab-df-convert\" onclick=\"convertToInteractive('df-381cf551-399d-4231-a78f-2c531ae98db7')\"\n",
              "            title=\"Convert this dataframe to an interactive table.\"\n",
              "            style=\"display:none;\">\n",
              "\n",
              "  <svg xmlns=\"http://www.w3.org/2000/svg\" height=\"24px\" viewBox=\"0 -960 960 960\">\n",
              "    <path d=\"M120-120v-720h720v720H120Zm60-500h600v-160H180v160Zm220 220h160v-160H400v160Zm0 220h160v-160H400v160ZM180-400h160v-160H180v160Zm440 0h160v-160H620v160ZM180-180h160v-160H180v160Zm440 0h160v-160H620v160Z\"/>\n",
              "  </svg>\n",
              "    </button>\n",
              "\n",
              "  <style>\n",
              "    .colab-df-container {\n",
              "      display:flex;\n",
              "      gap: 12px;\n",
              "    }\n",
              "\n",
              "    .colab-df-convert {\n",
              "      background-color: #E8F0FE;\n",
              "      border: none;\n",
              "      border-radius: 50%;\n",
              "      cursor: pointer;\n",
              "      display: none;\n",
              "      fill: #1967D2;\n",
              "      height: 32px;\n",
              "      padding: 0 0 0 0;\n",
              "      width: 32px;\n",
              "    }\n",
              "\n",
              "    .colab-df-convert:hover {\n",
              "      background-color: #E2EBFA;\n",
              "      box-shadow: 0px 1px 2px rgba(60, 64, 67, 0.3), 0px 1px 3px 1px rgba(60, 64, 67, 0.15);\n",
              "      fill: #174EA6;\n",
              "    }\n",
              "\n",
              "    .colab-df-buttons div {\n",
              "      margin-bottom: 4px;\n",
              "    }\n",
              "\n",
              "    [theme=dark] .colab-df-convert {\n",
              "      background-color: #3B4455;\n",
              "      fill: #D2E3FC;\n",
              "    }\n",
              "\n",
              "    [theme=dark] .colab-df-convert:hover {\n",
              "      background-color: #434B5C;\n",
              "      box-shadow: 0px 1px 3px 1px rgba(0, 0, 0, 0.15);\n",
              "      filter: drop-shadow(0px 1px 2px rgba(0, 0, 0, 0.3));\n",
              "      fill: #FFFFFF;\n",
              "    }\n",
              "  </style>\n",
              "\n",
              "    <script>\n",
              "      const buttonEl =\n",
              "        document.querySelector('#df-381cf551-399d-4231-a78f-2c531ae98db7 button.colab-df-convert');\n",
              "      buttonEl.style.display =\n",
              "        google.colab.kernel.accessAllowed ? 'block' : 'none';\n",
              "\n",
              "      async function convertToInteractive(key) {\n",
              "        const element = document.querySelector('#df-381cf551-399d-4231-a78f-2c531ae98db7');\n",
              "        const dataTable =\n",
              "          await google.colab.kernel.invokeFunction('convertToInteractive',\n",
              "                                                    [key], {});\n",
              "        if (!dataTable) return;\n",
              "\n",
              "        const docLinkHtml = 'Like what you see? Visit the ' +\n",
              "          '<a target=\"_blank\" href=https://colab.research.google.com/notebooks/data_table.ipynb>data table notebook</a>'\n",
              "          + ' to learn more about interactive tables.';\n",
              "        element.innerHTML = '';\n",
              "        dataTable['output_type'] = 'display_data';\n",
              "        await google.colab.output.renderOutput(dataTable, element);\n",
              "        const docLink = document.createElement('div');\n",
              "        docLink.innerHTML = docLinkHtml;\n",
              "        element.appendChild(docLink);\n",
              "      }\n",
              "    </script>\n",
              "  </div>\n",
              "\n",
              "\n",
              "<div id=\"df-344dbb61-b791-4676-a1c9-d6f6605315b8\">\n",
              "  <button class=\"colab-df-quickchart\" onclick=\"quickchart('df-344dbb61-b791-4676-a1c9-d6f6605315b8')\"\n",
              "            title=\"Suggest charts\"\n",
              "            style=\"display:none;\">\n",
              "\n",
              "<svg xmlns=\"http://www.w3.org/2000/svg\" height=\"24px\"viewBox=\"0 0 24 24\"\n",
              "     width=\"24px\">\n",
              "    <g>\n",
              "        <path d=\"M19 3H5c-1.1 0-2 .9-2 2v14c0 1.1.9 2 2 2h14c1.1 0 2-.9 2-2V5c0-1.1-.9-2-2-2zM9 17H7v-7h2v7zm4 0h-2V7h2v10zm4 0h-2v-4h2v4z\"/>\n",
              "    </g>\n",
              "</svg>\n",
              "  </button>\n",
              "\n",
              "<style>\n",
              "  .colab-df-quickchart {\n",
              "      --bg-color: #E8F0FE;\n",
              "      --fill-color: #1967D2;\n",
              "      --hover-bg-color: #E2EBFA;\n",
              "      --hover-fill-color: #174EA6;\n",
              "      --disabled-fill-color: #AAA;\n",
              "      --disabled-bg-color: #DDD;\n",
              "  }\n",
              "\n",
              "  [theme=dark] .colab-df-quickchart {\n",
              "      --bg-color: #3B4455;\n",
              "      --fill-color: #D2E3FC;\n",
              "      --hover-bg-color: #434B5C;\n",
              "      --hover-fill-color: #FFFFFF;\n",
              "      --disabled-bg-color: #3B4455;\n",
              "      --disabled-fill-color: #666;\n",
              "  }\n",
              "\n",
              "  .colab-df-quickchart {\n",
              "    background-color: var(--bg-color);\n",
              "    border: none;\n",
              "    border-radius: 50%;\n",
              "    cursor: pointer;\n",
              "    display: none;\n",
              "    fill: var(--fill-color);\n",
              "    height: 32px;\n",
              "    padding: 0;\n",
              "    width: 32px;\n",
              "  }\n",
              "\n",
              "  .colab-df-quickchart:hover {\n",
              "    background-color: var(--hover-bg-color);\n",
              "    box-shadow: 0 1px 2px rgba(60, 64, 67, 0.3), 0 1px 3px 1px rgba(60, 64, 67, 0.15);\n",
              "    fill: var(--button-hover-fill-color);\n",
              "  }\n",
              "\n",
              "  .colab-df-quickchart-complete:disabled,\n",
              "  .colab-df-quickchart-complete:disabled:hover {\n",
              "    background-color: var(--disabled-bg-color);\n",
              "    fill: var(--disabled-fill-color);\n",
              "    box-shadow: none;\n",
              "  }\n",
              "\n",
              "  .colab-df-spinner {\n",
              "    border: 2px solid var(--fill-color);\n",
              "    border-color: transparent;\n",
              "    border-bottom-color: var(--fill-color);\n",
              "    animation:\n",
              "      spin 1s steps(1) infinite;\n",
              "  }\n",
              "\n",
              "  @keyframes spin {\n",
              "    0% {\n",
              "      border-color: transparent;\n",
              "      border-bottom-color: var(--fill-color);\n",
              "      border-left-color: var(--fill-color);\n",
              "    }\n",
              "    20% {\n",
              "      border-color: transparent;\n",
              "      border-left-color: var(--fill-color);\n",
              "      border-top-color: var(--fill-color);\n",
              "    }\n",
              "    30% {\n",
              "      border-color: transparent;\n",
              "      border-left-color: var(--fill-color);\n",
              "      border-top-color: var(--fill-color);\n",
              "      border-right-color: var(--fill-color);\n",
              "    }\n",
              "    40% {\n",
              "      border-color: transparent;\n",
              "      border-right-color: var(--fill-color);\n",
              "      border-top-color: var(--fill-color);\n",
              "    }\n",
              "    60% {\n",
              "      border-color: transparent;\n",
              "      border-right-color: var(--fill-color);\n",
              "    }\n",
              "    80% {\n",
              "      border-color: transparent;\n",
              "      border-right-color: var(--fill-color);\n",
              "      border-bottom-color: var(--fill-color);\n",
              "    }\n",
              "    90% {\n",
              "      border-color: transparent;\n",
              "      border-bottom-color: var(--fill-color);\n",
              "    }\n",
              "  }\n",
              "</style>\n",
              "\n",
              "  <script>\n",
              "    async function quickchart(key) {\n",
              "      const quickchartButtonEl =\n",
              "        document.querySelector('#' + key + ' button');\n",
              "      quickchartButtonEl.disabled = true;  // To prevent multiple clicks.\n",
              "      quickchartButtonEl.classList.add('colab-df-spinner');\n",
              "      try {\n",
              "        const charts = await google.colab.kernel.invokeFunction(\n",
              "            'suggestCharts', [key], {});\n",
              "      } catch (error) {\n",
              "        console.error('Error during call to suggestCharts:', error);\n",
              "      }\n",
              "      quickchartButtonEl.classList.remove('colab-df-spinner');\n",
              "      quickchartButtonEl.classList.add('colab-df-quickchart-complete');\n",
              "    }\n",
              "    (() => {\n",
              "      let quickchartButtonEl =\n",
              "        document.querySelector('#df-344dbb61-b791-4676-a1c9-d6f6605315b8 button');\n",
              "      quickchartButtonEl.style.display =\n",
              "        google.colab.kernel.accessAllowed ? 'block' : 'none';\n",
              "    })();\n",
              "  </script>\n",
              "</div>\n",
              "\n",
              "    </div>\n",
              "  </div>\n"
            ],
            "application/vnd.google.colaboratory.intrinsic+json": {
              "type": "dataframe",
              "variable_name": "df",
              "summary": "{\n  \"name\": \"df\",\n  \"rows\": 14999,\n  \"fields\": [\n    {\n      \"column\": \"satisfaction_level\",\n      \"properties\": {\n        \"dtype\": \"number\",\n        \"std\": 0.24863065106114257,\n        \"min\": 0.09,\n        \"max\": 1.0,\n        \"num_unique_values\": 92,\n        \"samples\": [\n          0.83,\n          0.13,\n          0.55\n        ],\n        \"semantic_type\": \"\",\n        \"description\": \"\"\n      }\n    },\n    {\n      \"column\": \"last_evaluation\",\n      \"properties\": {\n        \"dtype\": \"number\",\n        \"std\": 0.17116911062327533,\n        \"min\": 0.36,\n        \"max\": 1.0,\n        \"num_unique_values\": 65,\n        \"samples\": [\n          0.66,\n          0.44,\n          0.53\n        ],\n        \"semantic_type\": \"\",\n        \"description\": \"\"\n      }\n    },\n    {\n      \"column\": \"number_project\",\n      \"properties\": {\n        \"dtype\": \"number\",\n        \"std\": 1,\n        \"min\": 2,\n        \"max\": 7,\n        \"num_unique_values\": 6,\n        \"samples\": [\n          2,\n          5,\n          3\n        ],\n        \"semantic_type\": \"\",\n        \"description\": \"\"\n      }\n    },\n    {\n      \"column\": \"average_montly_hours\",\n      \"properties\": {\n        \"dtype\": \"number\",\n        \"std\": 49,\n        \"min\": 96,\n        \"max\": 310,\n        \"num_unique_values\": 215,\n        \"samples\": [\n          118,\n          112,\n          222\n        ],\n        \"semantic_type\": \"\",\n        \"description\": \"\"\n      }\n    },\n    {\n      \"column\": \"time_spend_company\",\n      \"properties\": {\n        \"dtype\": \"number\",\n        \"std\": 1,\n        \"min\": 2,\n        \"max\": 10,\n        \"num_unique_values\": 8,\n        \"samples\": [\n          6,\n          8,\n          3\n        ],\n        \"semantic_type\": \"\",\n        \"description\": \"\"\n      }\n    },\n    {\n      \"column\": \"Work_accident\",\n      \"properties\": {\n        \"dtype\": \"number\",\n        \"std\": 0,\n        \"min\": 0,\n        \"max\": 1,\n        \"num_unique_values\": 2,\n        \"samples\": [\n          1,\n          0\n        ],\n        \"semantic_type\": \"\",\n        \"description\": \"\"\n      }\n    },\n    {\n      \"column\": \"left\",\n      \"properties\": {\n        \"dtype\": \"number\",\n        \"std\": 0,\n        \"min\": 0,\n        \"max\": 1,\n        \"num_unique_values\": 2,\n        \"samples\": [\n          0,\n          1\n        ],\n        \"semantic_type\": \"\",\n        \"description\": \"\"\n      }\n    },\n    {\n      \"column\": \"promotion_last_5years\",\n      \"properties\": {\n        \"dtype\": \"number\",\n        \"std\": 0,\n        \"min\": 0,\n        \"max\": 1,\n        \"num_unique_values\": 2,\n        \"samples\": [\n          1,\n          0\n        ],\n        \"semantic_type\": \"\",\n        \"description\": \"\"\n      }\n    },\n    {\n      \"column\": \"sales\",\n      \"properties\": {\n        \"dtype\": \"category\",\n        \"num_unique_values\": 10,\n        \"samples\": [\n          \"marketing\",\n          \"accounting\"\n        ],\n        \"semantic_type\": \"\",\n        \"description\": \"\"\n      }\n    },\n    {\n      \"column\": \"salary\",\n      \"properties\": {\n        \"dtype\": \"category\",\n        \"num_unique_values\": 3,\n        \"samples\": [\n          \"low\",\n          \"medium\"\n        ],\n        \"semantic_type\": \"\",\n        \"description\": \"\"\n      }\n    }\n  ]\n}"
            }
          },
          "metadata": {},
          "execution_count": 4
        }
      ]
    },
    {
      "cell_type": "markdown",
      "source": [
        "1.**How** many employees in each of the department (use column \"sales\")\n"
      ],
      "metadata": {
        "id": "OjxFFnNahrDP"
      }
    },
    {
      "cell_type": "code",
      "source": [
        "department_employee_count = df.groupby('sales').size().reset_index(name='num_employees')\n",
        "department_employee_count.insert(0,(\"\") , range(1, len(department_employee_count) + 1))\n",
        "print(\"  employees in each of the department \")\n",
        "print(tabulate(department_employee_count, headers='keys', tablefmt='grid', showindex=False))\n"
      ],
      "metadata": {
        "colab": {
          "base_uri": "https://localhost:8080/"
        },
        "id": "1oESiyl5iI4b",
        "outputId": "2c50f054-abe5-4ae1-ae01-576b52b1da8d"
      },
      "execution_count": null,
      "outputs": [
        {
          "output_type": "stream",
          "name": "stdout",
          "text": [
            "  employees in each of the department \n",
            "+----+-------------+-----------------+\n",
            "|    | sales       |   num_employees |\n",
            "+====+=============+=================+\n",
            "|  1 | IT          |            1227 |\n",
            "+----+-------------+-----------------+\n",
            "|  2 | RandD       |             787 |\n",
            "+----+-------------+-----------------+\n",
            "|  3 | accounting  |             767 |\n",
            "+----+-------------+-----------------+\n",
            "|  4 | hr          |             739 |\n",
            "+----+-------------+-----------------+\n",
            "|  5 | management  |             630 |\n",
            "+----+-------------+-----------------+\n",
            "|  6 | marketing   |             858 |\n",
            "+----+-------------+-----------------+\n",
            "|  7 | product_mng |             902 |\n",
            "+----+-------------+-----------------+\n",
            "|  8 | sales       |            4140 |\n",
            "+----+-------------+-----------------+\n",
            "|  9 | support     |            2229 |\n",
            "+----+-------------+-----------------+\n",
            "| 10 | technical   |            2720 |\n",
            "+----+-------------+-----------------+\n"
          ]
        }
      ]
    },
    {
      "cell_type": "markdown",
      "source": [
        "*2.Among employees who left, get the department wise (use column \"sales\"), number of employees and rank them.*"
      ],
      "metadata": {
        "id": "FOEXtcZmd5_b"
      }
    },
    {
      "cell_type": "code",
      "source": [
        "left_employees_department = df[df['left'] == 1].groupby('sales').size().reset_index(name='num_employees')\n",
        "left_employees_department['rank'] = left_employees_department['num_employees'].rank(ascending=False)\n",
        "left_employees_department.insert(0, 'Serial No', range(1, len(left_employees_department) + 1))\n",
        "print(\"\\nDepartment-wise Employee Count of Employees Who Left and Their Rank\")\n",
        "print(tabulate(left_employees_department, headers='keys', tablefmt='grid', showindex=False))"
      ],
      "metadata": {
        "colab": {
          "base_uri": "https://localhost:8080/"
        },
        "id": "ziORyGcBct0P",
        "outputId": "751becba-ff66-4243-b69b-0bf626323e5a"
      },
      "execution_count": 5,
      "outputs": [
        {
          "output_type": "stream",
          "name": "stdout",
          "text": [
            "\n",
            "Department-wise Employee Count of Employees Who Left and Their Rank\n",
            "+-------------+-------------+-----------------+--------+\n",
            "|   Serial No | sales       |   num_employees |   rank |\n",
            "+=============+=============+=================+========+\n",
            "|           1 | IT          |             273 |      4 |\n",
            "+-------------+-------------+-----------------+--------+\n",
            "|           2 | RandD       |             121 |      9 |\n",
            "+-------------+-------------+-----------------+--------+\n",
            "|           3 | accounting  |             204 |      6 |\n",
            "+-------------+-------------+-----------------+--------+\n",
            "|           4 | hr          |             215 |      5 |\n",
            "+-------------+-------------+-----------------+--------+\n",
            "|           5 | management  |              91 |     10 |\n",
            "+-------------+-------------+-----------------+--------+\n",
            "|           6 | marketing   |             203 |      7 |\n",
            "+-------------+-------------+-----------------+--------+\n",
            "|           7 | product_mng |             198 |      8 |\n",
            "+-------------+-------------+-----------------+--------+\n",
            "|           8 | sales       |            1014 |      1 |\n",
            "+-------------+-------------+-----------------+--------+\n",
            "|           9 | support     |             555 |      3 |\n",
            "+-------------+-------------+-----------------+--------+\n",
            "|          10 | technical   |             697 |      2 |\n",
            "+-------------+-------------+-----------------+--------+\n"
          ]
        }
      ]
    },
    {
      "cell_type": "markdown",
      "source": [
        "3.*Average number of years (time_spend_company) and average number of monthly hours (average_monthly_hours) for the employees left and not left under each department. Sort the value by sales.*"
      ],
      "metadata": {
        "id": "htSYei4keVOT"
      }
    },
    {
      "cell_type": "code",
      "source": [
        "avg_time_hours = df.groupby(['sales', 'left']).agg(\n",
        "    avg_time_spend_company=('time_spend_company', 'mean'),\n",
        "    avg_average_monthly_hours=('average_montly_hours', 'mean')\n",
        ").reset_index()\n",
        "heatmap_data = avg_time_hours.pivot(index='sales', columns='left', values=['avg_time_spend_company', 'avg_average_monthly_hours'])\n",
        "\n",
        "heatmap_data_reset = heatmap_data.reset_index()\n",
        "\n",
        "heatmap_data_reset.insert(0, 'Serial No', range(1, len(heatmap_data_reset) + 1))\n",
        "\n",
        "print(\"\\nHeatmap Data for Average Time Spent and Monthly Hours by Department and Left Status\")\n",
        "print(tabulate(heatmap_data_reset, headers='keys', tablefmt='grid', showindex=False))"
      ],
      "metadata": {
        "colab": {
          "base_uri": "https://localhost:8080/"
        },
        "id": "f6szTKq2c0jW",
        "outputId": "47d6171a-5f51-406e-c04f-9dd1fdb141da"
      },
      "execution_count": 6,
      "outputs": [
        {
          "output_type": "stream",
          "name": "stdout",
          "text": [
            "\n",
            "Heatmap Data for Average Time Spent and Monthly Hours by Department and Left Status\n",
            "+---------------------+-----------------+---------------------------------+---------------------------------+------------------------------------+------------------------------------+\n",
            "|   ('Serial No', '') | ('sales', '')   |   ('avg_time_spend_company', 0) |   ('avg_time_spend_company', 1) |   ('avg_average_monthly_hours', 0) |   ('avg_average_monthly_hours', 1) |\n",
            "+=====================+=================+=================================+=================================+====================================+====================================+\n",
            "|                   1 | IT              |                         3.35639 |                         3.86081 |                            198.887 |                            213.85  |\n",
            "+---------------------+-----------------+---------------------------------+---------------------------------+------------------------------------+------------------------------------+\n",
            "|                   2 | RandD           |                         3.25225 |                         4       |                            198.952 |                            210.975 |\n",
            "+---------------------+-----------------+---------------------------------+---------------------------------+------------------------------------+------------------------------------+\n",
            "|                   3 | accounting      |                         3.42451 |                         3.79412 |                            199.037 |                            207.029 |\n",
            "+---------------------+-----------------+---------------------------------+---------------------------------+------------------------------------+------------------------------------+\n",
            "|                   4 | hr              |                         3.19275 |                         3.75349 |                            199.25  |                            197.307 |\n",
            "+---------------------+-----------------+---------------------------------+---------------------------------+------------------------------------+------------------------------------+\n",
            "|                   5 | management      |                         4.39518 |                         3.75824 |                            200.234 |                            207.264 |\n",
            "+---------------------+-----------------+---------------------------------+---------------------------------+------------------------------------+------------------------------------+\n",
            "|                   6 | marketing       |                         3.48092 |                         3.85714 |                            198.889 |                            200.99  |\n",
            "+---------------------+-----------------+---------------------------------+---------------------------------+------------------------------------+------------------------------------+\n",
            "|                   7 | product_mng     |                         3.33097 |                         3.9899  |                            197.766 |                            207.788 |\n",
            "+---------------------+-----------------+---------------------------------+---------------------------------+------------------------------------+------------------------------------+\n",
            "|                   8 | sales           |                         3.4437  |                         3.81262 |                            199.572 |                            205.041 |\n",
            "+---------------------+-----------------+---------------------------------+---------------------------------+------------------------------------+------------------------------------+\n",
            "|                   9 | support         |                         3.21386 |                         3.93333 |                            199.141 |                            205.636 |\n",
            "+---------------------+-----------------+---------------------------------+---------------------------------+------------------------------------+------------------------------------+\n",
            "|                  10 | technical       |                         3.22244 |                         3.95983 |                            198.471 |                            214.184 |\n",
            "+---------------------+-----------------+---------------------------------+---------------------------------+------------------------------------+------------------------------------+\n"
          ]
        }
      ]
    },
    {
      "cell_type": "markdown",
      "source": [
        "6.*Under each department, what is the total count (sum) on work accidents (work_accident) and promotion for the last 5 years (promotion_last_5years) for both left and not left. Sort the value by sales.*"
      ],
      "metadata": {
        "id": "e0Rz2MZsfomh"
      }
    },
    {
      "cell_type": "code",
      "source": [
        "accident_promotion_stats = df.groupby([\"left\", \"sales\"]).agg(\n",
        "    count_work_accident=(\"Work_accident\", \"sum\"),\n",
        "    count_promotion_last_5years=(\"promotion_last_5years\", \"sum\")\n",
        ").reset_index()\n",
        "\n",
        "\n",
        "accident_promotion_stats_sorted = accident_promotion_stats.sort_values(by=\"sales\")\n",
        "\n",
        "accident_promotion_stats_sorted.insert(0, 'Serial No', range(1, len(accident_promotion_stats_sorted) + 1))\n",
        "\n",
        "print(\"\\nCount of Work Accidents and Promotions by Department and Left Status\")\n",
        "print(tabulate(accident_promotion_stats_sorted, headers='keys', tablefmt='grid', showindex=False))"
      ],
      "metadata": {
        "colab": {
          "base_uri": "https://localhost:8080/"
        },
        "id": "GqFbh-MudFZL",
        "outputId": "d9ebb160-4965-497f-c213-ea2c1174b075"
      },
      "execution_count": 9,
      "outputs": [
        {
          "output_type": "stream",
          "name": "stdout",
          "text": [
            "\n",
            "Count of Work Accidents and Promotions by Department and Left Status\n",
            "+-------------+--------+-------------+-----------------------+-------------------------------+\n",
            "|   Serial No |   left | sales       |   count_work_accident |   count_promotion_last_5years |\n",
            "+=============+========+=============+=======================+===============================+\n",
            "|           1 |      0 | IT          |                   155 |                             0 |\n",
            "+-------------+--------+-------------+-----------------------+-------------------------------+\n",
            "|           2 |      1 | IT          |                     9 |                             3 |\n",
            "+-------------+--------+-------------+-----------------------+-------------------------------+\n",
            "|           3 |      0 | RandD       |                   124 |                            27 |\n",
            "+-------------+--------+-------------+-----------------------+-------------------------------+\n",
            "|           4 |      1 | RandD       |                    10 |                             0 |\n",
            "+-------------+--------+-------------+-----------------------+-------------------------------+\n",
            "|           5 |      0 | accounting  |                    87 |                            14 |\n",
            "+-------------+--------+-------------+-----------------------+-------------------------------+\n",
            "|           6 |      1 | accounting  |                     9 |                             0 |\n",
            "+-------------+--------+-------------+-----------------------+-------------------------------+\n",
            "|           7 |      0 | hr          |                    82 |                            15 |\n",
            "+-------------+--------+-------------+-----------------------+-------------------------------+\n",
            "|           8 |      1 | hr          |                     7 |                             0 |\n",
            "+-------------+--------+-------------+-----------------------+-------------------------------+\n",
            "|           9 |      0 | management  |                    98 |                            66 |\n",
            "+-------------+--------+-------------+-----------------------+-------------------------------+\n",
            "|          10 |      1 | management  |                     5 |                             3 |\n",
            "+-------------+--------+-------------+-----------------------+-------------------------------+\n",
            "|          11 |      0 | marketing   |                   128 |                            43 |\n",
            "+-------------+--------+-------------+-----------------------+-------------------------------+\n",
            "|          12 |      1 | marketing   |                    10 |                             0 |\n",
            "+-------------+--------+-------------+-----------------------+-------------------------------+\n",
            "|          13 |      0 | product_mng |                   123 |                             0 |\n",
            "+-------------+--------+-------------+-----------------------+-------------------------------+\n",
            "|          14 |      1 | product_mng |                     9 |                             0 |\n",
            "+-------------+--------+-------------+-----------------------+-------------------------------+\n",
            "|          15 |      1 | sales       |                    46 |                             7 |\n",
            "+-------------+--------+-------------+-----------------------+-------------------------------+\n",
            "|          16 |      0 | sales       |                   541 |                            93 |\n",
            "+-------------+--------+-------------+-----------------------+-------------------------------+\n",
            "|          17 |      1 | support     |                    31 |                             3 |\n",
            "+-------------+--------+-------------+-----------------------+-------------------------------+\n",
            "|          18 |      0 | support     |                   314 |                            17 |\n",
            "+-------------+--------+-------------+-----------------------+-------------------------------+\n",
            "|          19 |      0 | technical   |                   348 |                            25 |\n",
            "+-------------+--------+-------------+-----------------------+-------------------------------+\n",
            "|          20 |      1 | technical   |                    33 |                             3 |\n",
            "+-------------+--------+-------------+-----------------------+-------------------------------+\n"
          ]
        }
      ]
    },
    {
      "cell_type": "markdown",
      "source": [
        "*5.Under each department, what is the minimum, maximum, average on last evaluation (last_evaluation) and satisfaction level (satisfaction_level) for both left and not left. Sort the value by sales.*"
      ],
      "metadata": {
        "id": "J2ZUT04xfdWJ"
      }
    },
    {
      "cell_type": "code",
      "source": [
        "eval_satisfaction_stats = df.groupby([\"sales\", \"left\"]).agg(\n",
        "    min_last_evaluation=(\"last_evaluation\", \"min\"),\n",
        "    max_last_evaluation=(\"last_evaluation\", \"max\"),\n",
        "    avg_last_evaluation=(\"last_evaluation\", \"mean\"),\n",
        "    min_satisfaction_level=(\"satisfaction_level\", \"min\"),\n",
        "    max_satisfaction_level=(\"satisfaction_level\", \"max\"),\n",
        "    avg_satisfaction_level=(\"satisfaction_level\", \"mean\")\n",
        ").reset_index()\n",
        "\n",
        "eval_satisfaction_stats_sorted = eval_satisfaction_stats.sort_values(by=\"sales\")\n",
        "\n",
        "eval_satisfaction_stats_sorted.insert(0, 'Serial No', range(1, len(eval_satisfaction_stats_sorted) + 1))\n",
        "\n",
        "\n",
        "print(\"\\nEvaluation and Satisfaction Statistics by Department and Left Status\")\n",
        "print(tabulate(eval_satisfaction_stats_sorted, headers='keys', tablefmt='grid', showindex=False))"
      ],
      "metadata": {
        "colab": {
          "base_uri": "https://localhost:8080/"
        },
        "id": "EU8nZ0rJdNBy",
        "outputId": "7bcf5d03-fcc5-49ad-83a1-7f670d7f8b0d"
      },
      "execution_count": 10,
      "outputs": [
        {
          "output_type": "stream",
          "name": "stdout",
          "text": [
            "\n",
            "Evaluation and Satisfaction Statistics by Department and Left Status\n",
            "+-------------+-------------+--------+-----------------------+-----------------------+-----------------------+--------------------------+--------------------------+--------------------------+\n",
            "|   Serial No | sales       |   left |   min_last_evaluation |   max_last_evaluation |   avg_last_evaluation |   min_satisfaction_level |   max_satisfaction_level |   avg_satisfaction_level |\n",
            "+=============+=============+========+=======================+=======================+=======================+==========================+==========================+==========================+\n",
            "|           1 | IT          |      0 |                  0.37 |                     1 |              0.71305  |                     0.12 |                     1    |                 0.67717  |\n",
            "+-------------+-------------+--------+-----------------------+-----------------------+-----------------------+--------------------------+--------------------------+--------------------------+\n",
            "|           2 | IT          |      1 |                  0.45 |                     1 |              0.730037 |                     0.09 |                     0.92 |                 0.411868 |\n",
            "+-------------+-------------+--------+-----------------------+-----------------------+-----------------------+--------------------------+--------------------------+--------------------------+\n",
            "|           3 | RandD       |      0 |                  0.36 |                     1 |              0.706081 |                     0.12 |                     1    |                 0.653799 |\n",
            "+-------------+-------------+--------+-----------------------+-----------------------+-----------------------+--------------------------+--------------------------+--------------------------+\n",
            "|           4 | RandD       |      1 |                  0.46 |                     1 |              0.745372 |                     0.09 |                     0.92 |                 0.43281  |\n",
            "+-------------+-------------+--------+-----------------------+-----------------------+-----------------------+--------------------------+--------------------------+--------------------------+\n",
            "|           5 | accounting  |      0 |                  0.36 |                     1 |              0.726128 |                     0.12 |                     1    |                 0.647211 |\n",
            "+-------------+-------------+--------+-----------------------+-----------------------+-----------------------+--------------------------+--------------------------+--------------------------+\n",
            "|           6 | accounting  |      1 |                  0.45 |                     1 |              0.69451  |                     0.09 |                     0.91 |                 0.402598 |\n",
            "+-------------+-------------+--------+-----------------------+-----------------------+-----------------------+--------------------------+--------------------------+--------------------------+\n",
            "|           7 | hr          |      0 |                  0.37 |                     1 |              0.720802 |                     0.13 |                     1    |                 0.666679 |\n",
            "+-------------+-------------+--------+-----------------------+-----------------------+-----------------------+--------------------------+--------------------------+--------------------------+\n",
            "|           8 | hr          |      1 |                  0.45 |                     1 |              0.679721 |                     0.09 |                     0.91 |                 0.433395 |\n",
            "+-------------+-------------+--------+-----------------------+-----------------------+-----------------------+--------------------------+--------------------------+--------------------------+\n",
            "|           9 | management  |      1 |                  0.46 |                     1 |              0.727253 |                     0.09 |                     0.9  |                 0.422857 |\n",
            "+-------------+-------------+--------+-----------------------+-----------------------+-----------------------+--------------------------+--------------------------+--------------------------+\n",
            "|          10 | management  |      0 |                  0.37 |                     1 |              0.723451 |                     0.12 |                     1    |                 0.654861 |\n",
            "+-------------+-------------+--------+-----------------------+-----------------------+-----------------------+--------------------------+--------------------------+--------------------------+\n",
            "|          11 | marketing   |      0 |                  0.36 |                     1 |              0.723282 |                     0.12 |                     1    |                 0.669878 |\n",
            "+-------------+-------------+--------+-----------------------+-----------------------+-----------------------+--------------------------+--------------------------+--------------------------+\n",
            "|          12 | marketing   |      1 |                  0.45 |                     1 |              0.69202  |                     0.09 |                     0.9  |                 0.453153 |\n",
            "+-------------+-------------+--------+-----------------------+-----------------------+-----------------------+--------------------------+--------------------------+--------------------------+\n",
            "|          13 | product_mng |      0 |                  0.36 |                     1 |              0.711435 |                     0.13 |                     1    |                 0.658466 |\n",
            "+-------------+-------------+--------+-----------------------+-----------------------+-----------------------+--------------------------+--------------------------+--------------------------+\n",
            "|          14 | product_mng |      1 |                  0.45 |                     1 |              0.726566 |                     0.09 |                     0.91 |                 0.481566 |\n",
            "+-------------+-------------+--------+-----------------------+-----------------------+-----------------------+--------------------------+--------------------------+--------------------------+\n",
            "|          15 | sales       |      0 |                  0.36 |                     1 |              0.709223 |                     0.12 |                     1    |                 0.668548 |\n",
            "+-------------+-------------+--------+-----------------------+-----------------------+-----------------------+--------------------------+--------------------------+--------------------------+\n",
            "|          16 | sales       |      1 |                  0.45 |                     1 |              0.711243 |                     0.09 |                     0.92 |                 0.447663 |\n",
            "+-------------+-------------+--------+-----------------------+-----------------------+-----------------------+--------------------------+--------------------------+--------------------------+\n",
            "|          17 | support     |      0 |                  0.36 |                     1 |              0.721714 |                     0.12 |                     1    |                 0.673799 |\n",
            "+-------------+-------------+--------+-----------------------+-----------------------+-----------------------+--------------------------+--------------------------+--------------------------+\n",
            "|          18 | support     |      1 |                  0.45 |                     1 |              0.727315 |                     0.09 |                     0.91 |                 0.450901 |\n",
            "+-------------+-------------+--------+-----------------------+-----------------------+-----------------------+--------------------------+--------------------------+--------------------------+\n",
            "|          19 | technical   |      0 |                  0.36 |                     1 |              0.716609 |                     0.12 |                     1    |                 0.668319 |\n",
            "+-------------+-------------+--------+-----------------------+-----------------------+-----------------------+--------------------------+--------------------------+--------------------------+\n",
            "|          20 | technical   |      1 |                  0.45 |                     1 |              0.734132 |                     0.09 |                     0.92 |                 0.432525 |\n",
            "+-------------+-------------+--------+-----------------------+-----------------------+-----------------------+--------------------------+--------------------------+--------------------------+\n"
          ]
        }
      ]
    },
    {
      "cell_type": "markdown",
      "source": [
        "*4.Under each department, what is the minimum and maximum for both left and not left employees related to time_spend_company and average_monthly_hours. Sort the value by sales.*"
      ],
      "metadata": {
        "id": "QHDy10hcfOSq"
      }
    },
    {
      "cell_type": "code",
      "source": [
        "min_max_time_hours = df.groupby([\"left\", \"sales\"]).agg(\n",
        "    min_time_spend_company=(\"time_spend_company\", \"min\"),\n",
        "    max_time_spend_company=(\"time_spend_company\", \"max\"),\n",
        "    min_average_montly_hours=(\"average_montly_hours\", \"min\"),\n",
        "    max_average_montly_hours=(\"average_montly_hours\", \"max\")\n",
        ").reset_index()\n",
        "\n",
        "\n",
        "min_max_time_hours_sorted = min_max_time_hours.sort_values(by=\"sales\")\n",
        "\n",
        "min_max_time_hours_sorted.insert(0, 'Serial No', range(1, len(min_max_time_hours_sorted) + 1))\n",
        "\n",
        "print(\"\\nMinimum and Maximum Time Spent and Monthly Hours by Department and Left Status\")\n",
        "print(tabulate(min_max_time_hours_sorted, headers='keys', tablefmt='grid', showindex=False))\n"
      ],
      "metadata": {
        "colab": {
          "base_uri": "https://localhost:8080/"
        },
        "id": "gByqMsGvdZFL",
        "outputId": "b2432012-3295-4cc6-8643-47b48d7a6e3c"
      },
      "execution_count": 11,
      "outputs": [
        {
          "output_type": "stream",
          "name": "stdout",
          "text": [
            "\n",
            "Minimum and Maximum Time Spent and Monthly Hours by Department and Left Status\n",
            "+-------------+--------+-------------+--------------------------+--------------------------+----------------------------+----------------------------+\n",
            "|   Serial No |   left | sales       |   min_time_spend_company |   max_time_spend_company |   min_average_montly_hours |   max_average_montly_hours |\n",
            "+=============+========+=============+==========================+==========================+============================+============================+\n",
            "|           1 |      0 | IT          |                        2 |                       10 |                         96 |                        287 |\n",
            "+-------------+--------+-------------+--------------------------+--------------------------+----------------------------+----------------------------+\n",
            "|           2 |      1 | IT          |                        2 |                        6 |                        127 |                        308 |\n",
            "+-------------+--------+-------------+--------------------------+--------------------------+----------------------------+----------------------------+\n",
            "|           3 |      0 | RandD       |                        2 |                        8 |                         98 |                        287 |\n",
            "+-------------+--------+-------------+--------------------------+--------------------------+----------------------------+----------------------------+\n",
            "|           4 |      1 | RandD       |                        2 |                        6 |                        127 |                        308 |\n",
            "+-------------+--------+-------------+--------------------------+--------------------------+----------------------------+----------------------------+\n",
            "|           5 |      0 | accounting  |                        2 |                       10 |                         97 |                        285 |\n",
            "+-------------+--------+-------------+--------------------------+--------------------------+----------------------------+----------------------------+\n",
            "|           6 |      1 | accounting  |                        2 |                        6 |                        127 |                        310 |\n",
            "+-------------+--------+-------------+--------------------------+--------------------------+----------------------------+----------------------------+\n",
            "|           7 |      0 | hr          |                        2 |                        8 |                         98 |                        285 |\n",
            "+-------------+--------+-------------+--------------------------+--------------------------+----------------------------+----------------------------+\n",
            "|           8 |      1 | hr          |                        3 |                        6 |                        126 |                        310 |\n",
            "+-------------+--------+-------------+--------------------------+--------------------------+----------------------------+----------------------------+\n",
            "|           9 |      0 | management  |                        2 |                       10 |                         97 |                        286 |\n",
            "+-------------+--------+-------------+--------------------------+--------------------------+----------------------------+----------------------------+\n",
            "|          10 |      1 | management  |                        2 |                        6 |                        127 |                        307 |\n",
            "+-------------+--------+-------------+--------------------------+--------------------------+----------------------------+----------------------------+\n",
            "|          11 |      0 | marketing   |                        2 |                       10 |                         96 |                        286 |\n",
            "+-------------+--------+-------------+--------------------------+--------------------------+----------------------------+----------------------------+\n",
            "|          12 |      1 | marketing   |                        3 |                        6 |                        127 |                        310 |\n",
            "+-------------+--------+-------------+--------------------------+--------------------------+----------------------------+----------------------------+\n",
            "|          13 |      0 | product_mng |                        2 |                       10 |                         98 |                        286 |\n",
            "+-------------+--------+-------------+--------------------------+--------------------------+----------------------------+----------------------------+\n",
            "|          14 |      1 | product_mng |                        3 |                        6 |                        129 |                        310 |\n",
            "+-------------+--------+-------------+--------------------------+--------------------------+----------------------------+----------------------------+\n",
            "|          15 |      1 | sales       |                        2 |                        6 |                        126 |                        310 |\n",
            "+-------------+--------+-------------+--------------------------+--------------------------+----------------------------+----------------------------+\n",
            "|          16 |      0 | sales       |                        2 |                       10 |                         96 |                        287 |\n",
            "+-------------+--------+-------------+--------------------------+--------------------------+----------------------------+----------------------------+\n",
            "|          17 |      1 | support     |                        2 |                        6 |                        126 |                        310 |\n",
            "+-------------+--------+-------------+--------------------------+--------------------------+----------------------------+----------------------------+\n",
            "|          18 |      0 | support     |                        2 |                       10 |                         96 |                        287 |\n",
            "+-------------+--------+-------------+--------------------------+--------------------------+----------------------------+----------------------------+\n",
            "|          19 |      0 | technical   |                        2 |                       10 |                         97 |                        287 |\n",
            "+-------------+--------+-------------+--------------------------+--------------------------+----------------------------+----------------------------+\n",
            "|          20 |      1 | technical   |                        2 |                        6 |                        126 |                        310 |\n",
            "+-------------+--------+-------------+--------------------------+--------------------------+----------------------------+----------------------------+\n"
          ]
        }
      ]
    },
    {
      "cell_type": "markdown",
      "source": [
        "*7.Bring the output from question 3-6 above*"
      ],
      "metadata": {
        "id": "VicC7Herf9NI"
      }
    },
    {
      "cell_type": "code",
      "source": [
        "a1 = avg_time_hours\n",
        "a2 = min_max_time_hours\n",
        "a3 = eval_satisfaction_stats\n",
        "a4 = accident_promotion_stats\n",
        "merged_df = pd.merge(a1, a2, on=['sales', 'left'])\n",
        "merged_df = pd.merge(merged_df, a3, on=['sales', 'left'])\n",
        "merged_df = pd.merge(merged_df, a4, on=['sales', 'left'])\n",
        "print(\"\\nMerged DataFrame with all statistics\")\n",
        "print(tabulate(merged_df, headers='keys', tablefmt='fancy_grid', showindex=False))"
      ],
      "metadata": {
        "colab": {
          "base_uri": "https://localhost:8080/"
        },
        "id": "u4mk7LCPgBLR",
        "outputId": "0c41d9cb-1d5b-4427-bdbc-b0d81f812cfe"
      },
      "execution_count": 12,
      "outputs": [
        {
          "output_type": "stream",
          "name": "stdout",
          "text": [
            "\n",
            "Merged DataFrame with all statistics\n",
            "╒═════════════╤════════╤══════════════════════════╤═════════════════════════════╤══════════════════════════╤══════════════════════════╤════════════════════════════╤════════════════════════════╤═══════════════════════╤═══════════════════════╤═══════════════════════╤══════════════════════════╤══════════════════════════╤══════════════════════════╤═══════════════════════╤═══════════════════════════════╕\n",
            "│ sales       │   left │   avg_time_spend_company │   avg_average_monthly_hours │   min_time_spend_company │   max_time_spend_company │   min_average_montly_hours │   max_average_montly_hours │   min_last_evaluation │   max_last_evaluation │   avg_last_evaluation │   min_satisfaction_level │   max_satisfaction_level │   avg_satisfaction_level │   count_work_accident │   count_promotion_last_5years │\n",
            "╞═════════════╪════════╪══════════════════════════╪═════════════════════════════╪══════════════════════════╪══════════════════════════╪════════════════════════════╪════════════════════════════╪═══════════════════════╪═══════════════════════╪═══════════════════════╪══════════════════════════╪══════════════════════════╪══════════════════════════╪═══════════════════════╪═══════════════════════════════╡\n",
            "│ IT          │      0 │                  3.35639 │                     198.887 │                        2 │                       10 │                         96 │                        287 │                  0.37 │                     1 │              0.71305  │                     0.12 │                     1    │                 0.67717  │                   155 │                             0 │\n",
            "├─────────────┼────────┼──────────────────────────┼─────────────────────────────┼──────────────────────────┼──────────────────────────┼────────────────────────────┼────────────────────────────┼───────────────────────┼───────────────────────┼───────────────────────┼──────────────────────────┼──────────────────────────┼──────────────────────────┼───────────────────────┼───────────────────────────────┤\n",
            "│ IT          │      1 │                  3.86081 │                     213.85  │                        2 │                        6 │                        127 │                        308 │                  0.45 │                     1 │              0.730037 │                     0.09 │                     0.92 │                 0.411868 │                     9 │                             3 │\n",
            "├─────────────┼────────┼──────────────────────────┼─────────────────────────────┼──────────────────────────┼──────────────────────────┼────────────────────────────┼────────────────────────────┼───────────────────────┼───────────────────────┼───────────────────────┼──────────────────────────┼──────────────────────────┼──────────────────────────┼───────────────────────┼───────────────────────────────┤\n",
            "│ RandD       │      0 │                  3.25225 │                     198.952 │                        2 │                        8 │                         98 │                        287 │                  0.36 │                     1 │              0.706081 │                     0.12 │                     1    │                 0.653799 │                   124 │                            27 │\n",
            "├─────────────┼────────┼──────────────────────────┼─────────────────────────────┼──────────────────────────┼──────────────────────────┼────────────────────────────┼────────────────────────────┼───────────────────────┼───────────────────────┼───────────────────────┼──────────────────────────┼──────────────────────────┼──────────────────────────┼───────────────────────┼───────────────────────────────┤\n",
            "│ RandD       │      1 │                  4       │                     210.975 │                        2 │                        6 │                        127 │                        308 │                  0.46 │                     1 │              0.745372 │                     0.09 │                     0.92 │                 0.43281  │                    10 │                             0 │\n",
            "├─────────────┼────────┼──────────────────────────┼─────────────────────────────┼──────────────────────────┼──────────────────────────┼────────────────────────────┼────────────────────────────┼───────────────────────┼───────────────────────┼───────────────────────┼──────────────────────────┼──────────────────────────┼──────────────────────────┼───────────────────────┼───────────────────────────────┤\n",
            "│ accounting  │      0 │                  3.42451 │                     199.037 │                        2 │                       10 │                         97 │                        285 │                  0.36 │                     1 │              0.726128 │                     0.12 │                     1    │                 0.647211 │                    87 │                            14 │\n",
            "├─────────────┼────────┼──────────────────────────┼─────────────────────────────┼──────────────────────────┼──────────────────────────┼────────────────────────────┼────────────────────────────┼───────────────────────┼───────────────────────┼───────────────────────┼──────────────────────────┼──────────────────────────┼──────────────────────────┼───────────────────────┼───────────────────────────────┤\n",
            "│ accounting  │      1 │                  3.79412 │                     207.029 │                        2 │                        6 │                        127 │                        310 │                  0.45 │                     1 │              0.69451  │                     0.09 │                     0.91 │                 0.402598 │                     9 │                             0 │\n",
            "├─────────────┼────────┼──────────────────────────┼─────────────────────────────┼──────────────────────────┼──────────────────────────┼────────────────────────────┼────────────────────────────┼───────────────────────┼───────────────────────┼───────────────────────┼──────────────────────────┼──────────────────────────┼──────────────────────────┼───────────────────────┼───────────────────────────────┤\n",
            "│ hr          │      0 │                  3.19275 │                     199.25  │                        2 │                        8 │                         98 │                        285 │                  0.37 │                     1 │              0.720802 │                     0.13 │                     1    │                 0.666679 │                    82 │                            15 │\n",
            "├─────────────┼────────┼──────────────────────────┼─────────────────────────────┼──────────────────────────┼──────────────────────────┼────────────────────────────┼────────────────────────────┼───────────────────────┼───────────────────────┼───────────────────────┼──────────────────────────┼──────────────────────────┼──────────────────────────┼───────────────────────┼───────────────────────────────┤\n",
            "│ hr          │      1 │                  3.75349 │                     197.307 │                        3 │                        6 │                        126 │                        310 │                  0.45 │                     1 │              0.679721 │                     0.09 │                     0.91 │                 0.433395 │                     7 │                             0 │\n",
            "├─────────────┼────────┼──────────────────────────┼─────────────────────────────┼──────────────────────────┼──────────────────────────┼────────────────────────────┼────────────────────────────┼───────────────────────┼───────────────────────┼───────────────────────┼──────────────────────────┼──────────────────────────┼──────────────────────────┼───────────────────────┼───────────────────────────────┤\n",
            "│ management  │      0 │                  4.39518 │                     200.234 │                        2 │                       10 │                         97 │                        286 │                  0.37 │                     1 │              0.723451 │                     0.12 │                     1    │                 0.654861 │                    98 │                            66 │\n",
            "├─────────────┼────────┼──────────────────────────┼─────────────────────────────┼──────────────────────────┼──────────────────────────┼────────────────────────────┼────────────────────────────┼───────────────────────┼───────────────────────┼───────────────────────┼──────────────────────────┼──────────────────────────┼──────────────────────────┼───────────────────────┼───────────────────────────────┤\n",
            "│ management  │      1 │                  3.75824 │                     207.264 │                        2 │                        6 │                        127 │                        307 │                  0.46 │                     1 │              0.727253 │                     0.09 │                     0.9  │                 0.422857 │                     5 │                             3 │\n",
            "├─────────────┼────────┼──────────────────────────┼─────────────────────────────┼──────────────────────────┼──────────────────────────┼────────────────────────────┼────────────────────────────┼───────────────────────┼───────────────────────┼───────────────────────┼──────────────────────────┼──────────────────────────┼──────────────────────────┼───────────────────────┼───────────────────────────────┤\n",
            "│ marketing   │      0 │                  3.48092 │                     198.889 │                        2 │                       10 │                         96 │                        286 │                  0.36 │                     1 │              0.723282 │                     0.12 │                     1    │                 0.669878 │                   128 │                            43 │\n",
            "├─────────────┼────────┼──────────────────────────┼─────────────────────────────┼──────────────────────────┼──────────────────────────┼────────────────────────────┼────────────────────────────┼───────────────────────┼───────────────────────┼───────────────────────┼──────────────────────────┼──────────────────────────┼──────────────────────────┼───────────────────────┼───────────────────────────────┤\n",
            "│ marketing   │      1 │                  3.85714 │                     200.99  │                        3 │                        6 │                        127 │                        310 │                  0.45 │                     1 │              0.69202  │                     0.09 │                     0.9  │                 0.453153 │                    10 │                             0 │\n",
            "├─────────────┼────────┼──────────────────────────┼─────────────────────────────┼──────────────────────────┼──────────────────────────┼────────────────────────────┼────────────────────────────┼───────────────────────┼───────────────────────┼───────────────────────┼──────────────────────────┼──────────────────────────┼──────────────────────────┼───────────────────────┼───────────────────────────────┤\n",
            "│ product_mng │      0 │                  3.33097 │                     197.766 │                        2 │                       10 │                         98 │                        286 │                  0.36 │                     1 │              0.711435 │                     0.13 │                     1    │                 0.658466 │                   123 │                             0 │\n",
            "├─────────────┼────────┼──────────────────────────┼─────────────────────────────┼──────────────────────────┼──────────────────────────┼────────────────────────────┼────────────────────────────┼───────────────────────┼───────────────────────┼───────────────────────┼──────────────────────────┼──────────────────────────┼──────────────────────────┼───────────────────────┼───────────────────────────────┤\n",
            "│ product_mng │      1 │                  3.9899  │                     207.788 │                        3 │                        6 │                        129 │                        310 │                  0.45 │                     1 │              0.726566 │                     0.09 │                     0.91 │                 0.481566 │                     9 │                             0 │\n",
            "├─────────────┼────────┼──────────────────────────┼─────────────────────────────┼──────────────────────────┼──────────────────────────┼────────────────────────────┼────────────────────────────┼───────────────────────┼───────────────────────┼───────────────────────┼──────────────────────────┼──────────────────────────┼──────────────────────────┼───────────────────────┼───────────────────────────────┤\n",
            "│ sales       │      0 │                  3.4437  │                     199.572 │                        2 │                       10 │                         96 │                        287 │                  0.36 │                     1 │              0.709223 │                     0.12 │                     1    │                 0.668548 │                   541 │                            93 │\n",
            "├─────────────┼────────┼──────────────────────────┼─────────────────────────────┼──────────────────────────┼──────────────────────────┼────────────────────────────┼────────────────────────────┼───────────────────────┼───────────────────────┼───────────────────────┼──────────────────────────┼──────────────────────────┼──────────────────────────┼───────────────────────┼───────────────────────────────┤\n",
            "│ sales       │      1 │                  3.81262 │                     205.041 │                        2 │                        6 │                        126 │                        310 │                  0.45 │                     1 │              0.711243 │                     0.09 │                     0.92 │                 0.447663 │                    46 │                             7 │\n",
            "├─────────────┼────────┼──────────────────────────┼─────────────────────────────┼──────────────────────────┼──────────────────────────┼────────────────────────────┼────────────────────────────┼───────────────────────┼───────────────────────┼───────────────────────┼──────────────────────────┼──────────────────────────┼──────────────────────────┼───────────────────────┼───────────────────────────────┤\n",
            "│ support     │      0 │                  3.21386 │                     199.141 │                        2 │                       10 │                         96 │                        287 │                  0.36 │                     1 │              0.721714 │                     0.12 │                     1    │                 0.673799 │                   314 │                            17 │\n",
            "├─────────────┼────────┼──────────────────────────┼─────────────────────────────┼──────────────────────────┼──────────────────────────┼────────────────────────────┼────────────────────────────┼───────────────────────┼───────────────────────┼───────────────────────┼──────────────────────────┼──────────────────────────┼──────────────────────────┼───────────────────────┼───────────────────────────────┤\n",
            "│ support     │      1 │                  3.93333 │                     205.636 │                        2 │                        6 │                        126 │                        310 │                  0.45 │                     1 │              0.727315 │                     0.09 │                     0.91 │                 0.450901 │                    31 │                             3 │\n",
            "├─────────────┼────────┼──────────────────────────┼─────────────────────────────┼──────────────────────────┼──────────────────────────┼────────────────────────────┼────────────────────────────┼───────────────────────┼───────────────────────┼───────────────────────┼──────────────────────────┼──────────────────────────┼──────────────────────────┼───────────────────────┼───────────────────────────────┤\n",
            "│ technical   │      0 │                  3.22244 │                     198.471 │                        2 │                       10 │                         97 │                        287 │                  0.36 │                     1 │              0.716609 │                     0.12 │                     1    │                 0.668319 │                   348 │                            25 │\n",
            "├─────────────┼────────┼──────────────────────────┼─────────────────────────────┼──────────────────────────┼──────────────────────────┼────────────────────────────┼────────────────────────────┼───────────────────────┼───────────────────────┼───────────────────────┼──────────────────────────┼──────────────────────────┼──────────────────────────┼───────────────────────┼───────────────────────────────┤\n",
            "│ technical   │      1 │                  3.95983 │                     214.184 │                        2 │                        6 │                        126 │                        310 │                  0.45 │                     1 │              0.734132 │                     0.09 │                     0.92 │                 0.432525 │                    33 │                             3 │\n",
            "╘═════════════╧════════╧══════════════════════════╧═════════════════════════════╧══════════════════════════╧══════════════════════════╧════════════════════════════╧════════════════════════════╧═══════════════════════╧═══════════════════════╧═══════════════════════╧══════════════════════════╧══════════════════════════╧══════════════════════════╧═══════════════════════╧═══════════════════════════════╛\n"
          ]
        }
      ]
    },
    {
      "cell_type": "markdown",
      "source": [
        "8.*Using output from the question 7 above, plot them as a grouped bar chart (similar to this or see group bar chart below) with seaborn. There must be two bars, one bar representing left and another for not left. This plot is for each unique department values in column “sales.*"
      ],
      "metadata": {
        "id": "xuKEzd6ogQx0"
      }
    },
    {
      "cell_type": "code",
      "source": [
        "import matplotlib.pyplot as plt\n",
        "data = {\n",
        "    \"IT\": 10,\n",
        "    \"left\": 25,\n",
        "    \"avg_time_spend_money\": 15,\n",
        "    \"avg_average_monthly_hours\": 30\n",
        "}\n",
        "sales = list(data.keys())\n",
        "avg_time_spend_money = list(data.values())\n",
        "plt.figure(figsize=(8, 6))\n",
        "plt.bar(sales , avg_time_spend_money, color=\"blue\")\n",
        "plt.title(\"Grouped Bar Chart\")\n",
        "plt.xlabel(\"sales\")\n",
        "plt.ylabel(\"avg_time_spend_money\")\n",
        "plt.xticks(rotation=45)\n",
        "plt.tight_layout()\n",
        "plt.show()"
      ],
      "metadata": {
        "colab": {
          "base_uri": "https://localhost:8080/",
          "height": 781
        },
        "id": "VorS0RLqhIEg",
        "outputId": "2d7eeb8b-c34c-4a34-95b7-79bd6f8b2457"
      },
      "execution_count": 19,
      "outputs": [
        {
          "output_type": "execute_result",
          "data": {
            "text/plain": [
              "<Figure size 800x600 with 0 Axes>"
            ]
          },
          "metadata": {},
          "execution_count": 19
        },
        {
          "output_type": "execute_result",
          "data": {
            "text/plain": [
              "<BarContainer object of 4 artists>"
            ]
          },
          "metadata": {},
          "execution_count": 19
        },
        {
          "output_type": "execute_result",
          "data": {
            "text/plain": [
              "Text(0.5, 1.0, 'Grouped Bar Chart')"
            ]
          },
          "metadata": {},
          "execution_count": 19
        },
        {
          "output_type": "execute_result",
          "data": {
            "text/plain": [
              "Text(0.5, 0, 'sales')"
            ]
          },
          "metadata": {},
          "execution_count": 19
        },
        {
          "output_type": "execute_result",
          "data": {
            "text/plain": [
              "Text(0, 0.5, 'avg_time_spend_money')"
            ]
          },
          "metadata": {},
          "execution_count": 19
        },
        {
          "output_type": "execute_result",
          "data": {
            "text/plain": [
              "([0, 1, 2, 3],\n",
              " [Text(0, 0, 'IT'),\n",
              "  Text(1, 0, 'left'),\n",
              "  Text(2, 0, 'avg_time_spend_money'),\n",
              "  Text(3, 0, 'avg_average_monthly_hours')])"
            ]
          },
          "metadata": {},
          "execution_count": 19
        },
        {
          "output_type": "display_data",
          "data": {
            "text/plain": [
              "<Figure size 800x600 with 1 Axes>"
            ],
            "image/png": "[encoded data removed]"
          },
          "metadata": {}
        }
      ]
    }
  ]
}