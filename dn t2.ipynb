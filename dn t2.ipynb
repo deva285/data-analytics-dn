{
  "nbformat": 4,
  "nbformat_minor": 0,
  "metadata": {
    "colab": {
      "provenance": [],
      "authorship_tag": "ABX9TyNlaZwW3F9B+2Y0xVaCYlCV",
      "include_colab_link": true
    },
    "kernelspec": {
      "name": "python3",
      "display_name": "Python 3"
    },
    "language_info": {
      "name": "python"
    }
  },
  "cells": [
    {
      "cell_type": "markdown",
      "metadata": {
        "id": "view-in-github",
        "colab_type": "text"
      },
      "source": [
        "<a href=\"https://colab.research.google.com/github/deva285/data-analytics-dn/blob/main/dn%20t2.ipynb\" target=\"_parent\"><img src=\"https://colab.research.google.com/assets/colab-badge.svg\" alt=\"Open In Colab\"/></a>"
      ]
    },
    {
      "cell_type": "code",
      "execution_count": null,
      "metadata": {
        "id": "CQPCynKAHLaD"
      },
      "outputs": [],
      "source": []
    },
    {
      "cell_type": "code",
      "source": [
        "a=5\n",
        "b=7\n",
        "c=a+b\n",
        "print(c)"
      ],
      "metadata": {
        "colab": {
          "base_uri": "https://localhost:8080/"
        },
        "id": "CWQVLauuxLDp",
        "outputId": "6023e294-e709-4aa4-9bc8-1e5b42b86088"
      },
      "execution_count": null,
      "outputs": [
        {
          "output_type": "stream",
          "name": "stdout",
          "text": [
            "12\n"
          ]
        }
      ]
    },
    {
      "cell_type": "code",
      "source": [
        "alp=\"tire\"\n",
        "print(type(alp))\n",
        "\n"
      ],
      "metadata": {
        "colab": {
          "base_uri": "https://localhost:8080/"
        },
        "id": "z42EG2i4xoPC",
        "outputId": "8722ba29-50e3-4215-ae57-39053238ff97"
      },
      "execution_count": null,
      "outputs": [
        {
          "output_type": "stream",
          "name": "stdout",
          "text": [
            "<class 'str'>\n"
          ]
        }
      ]
    },
    {
      "cell_type": "code",
      "source": [
        "alp=12\n",
        "print(type(alp))"
      ],
      "metadata": {
        "colab": {
          "base_uri": "https://localhost:8080/"
        },
        "id": "-GYfugd-yRnw",
        "outputId": "16f463c8-395b-49b9-ce8a-7bdb22d3b487"
      },
      "execution_count": null,
      "outputs": [
        {
          "output_type": "stream",
          "name": "stdout",
          "text": [
            "<class 'int'>\n"
          ]
        }
      ]
    },
    {
      "cell_type": "code",
      "source": [
        "a=int(input())\n",
        "b=int(input())\n",
        "c=a*b\n",
        "print(c)\n"
      ],
      "metadata": {
        "id": "-CwOQNMt2_fu",
        "outputId": "14543007-eb50-485d-e225-edd78059c687",
        "colab": {
          "base_uri": "https://localhost:8080/"
        }
      },
      "execution_count": null,
      "outputs": [
        {
          "output_type": "stream",
          "name": "stdout",
          "text": [
            "5\n",
            "6\n",
            "30\n"
          ]
        }
      ]
    },
    {
      "cell_type": "code",
      "source": [
        "machine=input()\n",
        "year=input()\n",
        "print(\"machine name :\",machine)\n",
        "print(\"year of purchase:\",year)\n"
      ],
      "metadata": {
        "id": "tkzxCxD_3xfj",
        "outputId": "75603e9c-40ed-4dde-9b99-c1faea4b2236",
        "colab": {
          "base_uri": "https://localhost:8080/"
        }
      },
      "execution_count": null,
      "outputs": [
        {
          "output_type": "stream",
          "name": "stdout",
          "text": [
            "scara\n",
            "2024\n",
            "machine name : scara\n",
            "year of purchase: 2024\n"
          ]
        }
      ]
    },
    {
      "cell_type": "code",
      "source": [
        "inte=int(input(\"AGE:\"))\n",
        "if(inte>=18):\n",
        "   print(\"eligible for voting\")\n",
        "else:\n",
        "    print(\" not eligible for voting\")"
      ],
      "metadata": {
        "id": "5w4_-9s7_1F9",
        "outputId": "fd8919b8-245b-4f90-eea3-3c6615027c94",
        "colab": {
          "base_uri": "https://localhost:8080/"
        }
      },
      "execution_count": null,
      "outputs": [
        {
          "output_type": "stream",
          "name": "stdout",
          "text": [
            "AGE:23\n",
            "eligible for voting\n"
          ]
        }
      ]
    },
    {
      "cell_type": "code",
      "source": [
        "mark=int(input())\n",
        "print(\"PERCENTAGE OF MARK:\",mark*2)"
      ],
      "metadata": {
        "id": "VfJz93Qk7m4k",
        "outputId": "a1c8d59d-5840-438f-e7ea-f851d777dfb2",
        "colab": {
          "base_uri": "https://localhost:8080/"
        }
      },
      "execution_count": null,
      "outputs": [
        {
          "output_type": "stream",
          "name": "stdout",
          "text": [
            "47\n",
            "PERCENTAGE OF MARK: 94\n"
          ]
        }
      ]
    }
  ]
}