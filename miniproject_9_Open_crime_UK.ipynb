{
  "nbformat": 4,
  "nbformat_minor": 0,
  "metadata": {
    "colab": {
      "provenance": [],
      "include_colab_link": true
    },
    "kernelspec": {
      "name": "python3",
      "display_name": "Python 3"
    },
    "language_info": {
      "name": "python"
    }
  },
  "cells": [
    {
      "cell_type": "markdown",
      "metadata": {
        "id": "view-in-github",
        "colab_type": "text"
      },
      "source": [
        "<a href=\"https://colab.research.google.com/github/deva285/data-analytics-dn/blob/main/miniproject_9_Open_crime_UK.ipynb\" target=\"_parent\"><img src=\"https://colab.research.google.com/assets/colab-badge.svg\" alt=\"Open In Colab\"/></a>"
      ]
    },
    {
      "cell_type": "code",
      "source": [
        "from google.colab import drive\n",
        "drive.mount('/content/drive')\n",
        "!ls -ltr /content/drive/MyDrive/ | grep*.csv"
      ],
      "metadata": {
        "colab": {
          "base_uri": "https://localhost:8080/"
        },
        "id": "AiSHp-6j00d6",
        "outputId": "fce958d5-3de6-4f8a-8fc0-24ff1c8636f3"
      },
      "execution_count": null,
      "outputs": [
        {
          "output_type": "stream",
          "name": "stdout",
          "text": [
            "Mounted at /content/drive\n",
            "/bin/bash: line 1: grep*.csv: command not found\n",
            "ls: /content/drive/MyDrive/dataset: No such file or directory\n"
          ]
        }
      ]
    },
    {
      "cell_type": "code",
      "source": [
        "!ls -ltr /content/drive/MyDrive/dataset/dataset_csv/"
      ],
      "metadata": {
        "colab": {
          "base_uri": "https://localhost:8080/"
        },
        "id": "ls8StwlH1skH",
        "outputId": "ad9c1beb-ab40-4a23-888d-5788dbc49386"
      },
      "execution_count": null,
      "outputs": [
        {
          "output_type": "stream",
          "name": "stdout",
          "text": [
            "total 52\n",
            "dr-x------ 2 root root 4096 Feb 26  2022 dataset-titanic\n",
            "dr-x------ 2 root root 4096 Feb 26  2022 dataset-powerlifting-csv\n",
            "dr-x------ 2 root root 4096 Feb 26  2022 dataset_open_crime_uk\n",
            "dr-x------ 2 root root 4096 Feb 26  2022 dataset-google-scholar\n",
            "dr-x------ 2 root root 4096 Feb 26  2022 dataset_ebola\n",
            "dr-x------ 2 root root 4096 Feb 26  2022 dataset-domestic-flights-from-1990-to-2009\n",
            "dr-x------ 2 root root 4096 Feb 26  2022 dataset-covid-2\n",
            "dr-x------ 2 root root 4096 Feb 26  2022 dataset-covid\n",
            "dr-x------ 2 root root 4096 Feb 26  2022 dataset-airports\n",
            "dr-x------ 2 root root 4096 Mar  5  2022 dataset-world-economy-worldbank\n",
            "dr-x------ 2 root root 4096 Jun 21  2023 dataset-hr\n",
            "dr-x------ 2 root root 4096 Jul 10  2024 dataset-museum-artifacts\n",
            "dr-x------ 2 root root 4096 Nov 11 15:06 dataset-forest-fire\n"
          ]
        }
      ]
    },
    {
      "cell_type": "markdown",
      "source": [
        "## **PART I**"
      ],
      "metadata": {
        "id": "fUtOnN24bjHS"
      }
    },
    {
      "cell_type": "code",
      "source": [
        "import os\n",
        "import pandas as pd\n",
        "from tabulate import tabulate\n",
        "df = pd.read_csv('/content/drive/MyDrive/minipda/2025-01-merseyside-stop-and-search.csv')\n",
        "\n",
        "print(tabulate(df.head(10), headers='keys', tablefmt='github'))"
      ],
      "metadata": {
        "id": "gTevh-JDIy76",
        "colab": {
          "base_uri": "https://localhost:8080/"
        },
        "outputId": "36e6db19-301f-4b46-e547-c3250ce6dc72"
      },
      "execution_count": null,
      "outputs": [
        {
          "output_type": "stream",
          "name": "stdout",
          "text": [
            "|    | Type                      | Date                      |   Part of a policing operation |   Policing operation |   Latitude |   Longitude | Gender   | Age range   | Self-defined ethnicity                                | Officer-defined ethnicity   | Legislation                                       | Object of search                   | Outcome                      |   Outcome linked to object of search |   Removal of more than just outer clothing |\n",
            "|----|---------------------------|---------------------------|--------------------------------|----------------------|------------|-------------|----------|-------------|-------------------------------------------------------|-----------------------------|---------------------------------------------------|------------------------------------|------------------------------|--------------------------------------|--------------------------------------------|\n",
            "|  0 | Person and Vehicle search | 2025-01-01T00:31:38+00:00 |                            nan |                  nan |    53.4819 |    -2.89796 | Male     | over 34     | White - English/Welsh/Scottish/Northern Irish/British | White                       | Misuse of Drugs Act 1971 (section 23)             | Controlled drugs                   | A no further action disposal |                                  nan |                                          0 |\n",
            "|  1 | Person and Vehicle search | 2025-01-01T00:31:38+00:00 |                            nan |                  nan |    53.4819 |    -2.89796 | Male     | over 34     | White - English/Welsh/Scottish/Northern Irish/British | White                       | Misuse of Drugs Act 1971 (section 23)             | Controlled drugs                   | A no further action disposal |                                  nan |                                          0 |\n",
            "|  2 | Person and Vehicle search | 2025-01-01T00:38:27+00:00 |                            nan |                  nan |    53.4224 |    -2.94039 | Male     | over 34     | Other ethnic group - Not stated                       | Other                       | Misuse of Drugs Act 1971 (section 23)             | Controlled drugs                   | A no further action disposal |                                  nan |                                          0 |\n",
            "|  3 | Person and Vehicle search | 2025-01-01T00:38:27+00:00 |                            nan |                  nan |    53.4224 |    -2.94039 | Male     | over 34     | Other ethnic group - Not stated                       | Other                       | Misuse of Drugs Act 1971 (section 23)             | Controlled drugs                   | A no further action disposal |                                  nan |                                          0 |\n",
            "|  4 | Person search             | 2025-01-01T01:00:30+00:00 |                            nan |                  nan |    53.4877 |    -3.03966 | Male     | 18-24       | White - English/Welsh/Scottish/Northern Irish/British | White                       | Police and Criminal Evidence Act 1984 (section 1) | Evidence of offences under the Act | Arrest                       |                                    0 |                                          0 |\n",
            "|  5 | Person search             | 2025-01-01T01:00:30+00:00 |                            nan |                  nan |    53.4877 |    -3.03966 | Male     | 18-24       | White - English/Welsh/Scottish/Northern Irish/British | White                       | Police and Criminal Evidence Act 1984 (section 1) | Evidence of offences under the Act | Arrest                       |                                    0 |                                          0 |\n",
            "|  6 | Person search             | 2025-01-01T01:03:30+00:00 |                            nan |                  nan |    53.4071 |    -2.98696 | Male     | 10-17       | White - English/Welsh/Scottish/Northern Irish/British | White                       | Misuse of Drugs Act 1971 (section 23)             | Controlled drugs                   | A no further action disposal |                                  nan |                                          0 |\n",
            "|  7 | Person search             | 2025-01-01T01:03:30+00:00 |                            nan |                  nan |    53.4071 |    -2.98696 | Male     | 10-17       | White - English/Welsh/Scottish/Northern Irish/British | White                       | Misuse of Drugs Act 1971 (section 23)             | Controlled drugs                   | A no further action disposal |                                  nan |                                          0 |\n",
            "|  8 | Vehicle search            | 2025-01-01T01:21:04+00:00 |                            nan |                  nan |    53.397  |    -3.03542 | nan      | nan         | nan                                                   | nan                         | Police and Criminal Evidence Act 1984 (section 1) | nan                                | Arrest                       |                                    0 |                                        nan |\n",
            "|  9 | Vehicle search            | 2025-01-01T01:21:04+00:00 |                            nan |                  nan |    53.397  |    -3.03542 | nan      | nan         | nan                                                   | nan                         | Police and Criminal Evidence Act 1984 (section 1) | nan                                | Arrest                       |                                    0 |                                        nan |\n"
          ]
        }
      ]
    },
    {
      "cell_type": "markdown",
      "source": [
        "### **1.1 Top 10 Type by number events. Type column is the event (see sample data in the end of this document ).**\n",
        "### **Expected Output:**\n",
        "### **type, num_events, rank**\n"
      ],
      "metadata": {
        "id": "2OAXV_CYbVlY"
      }
    },
    {
      "cell_type": "code",
      "source": [
        "df_num = df.groupby('Type').size().to_frame('num_events').reset_index()\n",
        "df_num['rank'] = df_num['num_events'].rank(ascending=False)\n",
        "df_num = df_num.sort_values(by='rank', ascending=True)\n",
        "print(tabulate(df_num, headers='keys', tablefmt='github'))"
      ],
      "metadata": {
        "colab": {
          "base_uri": "https://localhost:8080/"
        },
        "id": "EPMhNhkDe96H",
        "outputId": "24f49d5d-98c8-4002-e8e9-50a2e422b2e9"
      },
      "execution_count": null,
      "outputs": [
        {
          "output_type": "stream",
          "name": "stdout",
          "text": [
            "|    | Type                      |   num_events |   rank |\n",
            "|----|---------------------------|--------------|--------|\n",
            "|  1 | Person search             |         6928 |      1 |\n",
            "|  0 | Person and Vehicle search |         1640 |      2 |\n",
            "|  2 | Vehicle search            |          216 |      3 |\n"
          ]
        }
      ]
    },
    {
      "cell_type": "markdown",
      "source": [
        "### **1.2 Top 10 Ethnics by number events. Use column “Officer-defined ethnicity”**\n",
        "### **Expected Output:**\n",
        "### **type, ethnicity, office_num_events, office_ethnic_rank**\n"
      ],
      "metadata": {
        "id": "5QtU40UhdTAW"
      }
    },
    {
      "cell_type": "code",
      "source": [
        "df_eth1 = df.groupby(['Type', 'Officer-defined ethnicity']).size().to_frame('office_num_events').reset_index()\n",
        "df_eth1['office_ethnic_rank'] = df_eth1['office_num_events'].rank(ascending=False)\n",
        "print(tabulate(df_eth1, headers='keys', tablefmt='github'))"
      ],
      "metadata": {
        "id": "oCrjpl0vnLio",
        "colab": {
          "base_uri": "https://localhost:8080/"
        },
        "outputId": "99312d64-3d7a-4767-9283-aa02c063625d"
      },
      "execution_count": null,
      "outputs": [
        {
          "output_type": "stream",
          "name": "stdout",
          "text": [
            "|    | Type                      | Officer-defined ethnicity   |   office_num_events |   office_ethnic_rank |\n",
            "|----|---------------------------|-----------------------------|---------------------|----------------------|\n",
            "|  0 | Person and Vehicle search | Asian                       |                  68 |                    7 |\n",
            "|  1 | Person and Vehicle search | Black                       |                  76 |                    6 |\n",
            "|  2 | Person and Vehicle search | Other                       |                  56 |                    8 |\n",
            "|  3 | Person and Vehicle search | White                       |                1392 |                    2 |\n",
            "|  4 | Person search             | Asian                       |                 126 |                    4 |\n",
            "|  5 | Person search             | Black                       |                 254 |                    3 |\n",
            "|  6 | Person search             | Other                       |                 108 |                    5 |\n",
            "|  7 | Person search             | White                       |                6126 |                    1 |\n"
          ]
        }
      ]
    },
    {
      "cell_type": "markdown",
      "source": [
        "### **1.3 Top 10 Ethnics by number events. Use column “Self-defined ethnicity”**\n",
        "### **Expected Output:**\n",
        "### **type, self_num_events, self_ethnic_rank**\n"
      ],
      "metadata": {
        "id": "Gfq2Qw_FRiQe"
      }
    },
    {
      "cell_type": "code",
      "source": [
        "df_eth2 = df.groupby(['Type', 'Self-defined ethnicity']).size().to_frame('self_num_events').reset_index()\n",
        "df_eth2['self_ethnic_rank'] = df_eth2['self_num_events'].rank(ascending=False)\n",
        "df_eth2 = df_eth2.sort_values(by='self_ethnic_rank').head(10).reset_index(drop=True)\n",
        "print(tabulate(df_eth2, headers='keys', tablefmt='github'))"
      ],
      "metadata": {
        "colab": {
          "base_uri": "https://localhost:8080/"
        },
        "id": "NMh7C0IYRh-k",
        "outputId": "1cee25e2-f7bb-4cdb-c35f-bdeee2fa5316"
      },
      "execution_count": null,
      "outputs": [
        {
          "output_type": "stream",
          "name": "stdout",
          "text": [
            "|    | Type                      | Self-defined ethnicity                                                    |   self_num_events |   self_ethnic_rank |\n",
            "|----|---------------------------|---------------------------------------------------------------------------|-------------------|--------------------|\n",
            "|  0 | Person search             | White - English/Welsh/Scottish/Northern Irish/British                     |              5616 |                  1 |\n",
            "|  1 | Person and Vehicle search | White - English/Welsh/Scottish/Northern Irish/British                     |              1268 |                  2 |\n",
            "|  2 | Person search             | Other ethnic group - Not stated                                           |               266 |                  3 |\n",
            "|  3 | Person search             | White - Any other White background                                        |               144 |                  4 |\n",
            "|  4 | Person search             | White - Irish                                                             |               120 |                  5 |\n",
            "|  5 | Person search             | Black/African/Caribbean/Black British - African                           |                78 |                  6 |\n",
            "|  6 | Person search             | Mixed/Multiple ethnic groups - Any other Mixed/Multiple ethnic background |                72 |                  7 |\n",
            "|  7 | Person search             | Other ethnic group - Arab                                                 |                64 |                  8 |\n",
            "|  8 | Person search             | Other ethnic group - Any other ethnic group                               |                60 |                  9 |\n",
            "|  9 | Person and Vehicle search | White - Any other White background                                        |                58 |                 10 |\n"
          ]
        }
      ]
    },
    {
      "cell_type": "markdown",
      "source": [
        "### **1.4 Merge 2 and 3 above on type.**\n",
        "### **Expected Output:**\n",
        "### **type, office_num_events, office_ethnic_rank, self_num_events, self_ethnic_rank**\n"
      ],
      "metadata": {
        "id": "-a9CzzCcVbvi"
      }
    },
    {
      "cell_type": "code",
      "source": [
        "df_merge = df_eth1.merge(df_eth2, on=['Type'])\n",
        "#df_merge = df_merge[['Type', 'office_num_events', 'office_ethnic_rank', 'self_num_events', 'self_ethnic_rank']]\n",
        "print(tabulate(df_merge, headers='keys', tablefmt='github'))"
      ],
      "metadata": {
        "colab": {
          "base_uri": "https://localhost:8080/"
        },
        "id": "TPnnZ50-KUv3",
        "outputId": "123376c4-0541-4dae-f0ce-e69740ab556b"
      },
      "execution_count": null,
      "outputs": [
        {
          "output_type": "stream",
          "name": "stdout",
          "text": [
            "|    | Type                      | Officer-defined ethnicity   |   office_num_events |   office_ethnic_rank | Self-defined ethnicity                                                    |   self_num_events |   self_ethnic_rank |\n",
            "|----|---------------------------|-----------------------------|---------------------|----------------------|---------------------------------------------------------------------------|-------------------|--------------------|\n",
            "|  0 | Person and Vehicle search | Asian                       |                  68 |                    7 | White - English/Welsh/Scottish/Northern Irish/British                     |              1268 |                  2 |\n",
            "|  1 | Person and Vehicle search | Asian                       |                  68 |                    7 | White - Any other White background                                        |                58 |                 10 |\n",
            "|  2 | Person and Vehicle search | Black                       |                  76 |                    6 | White - English/Welsh/Scottish/Northern Irish/British                     |              1268 |                  2 |\n",
            "|  3 | Person and Vehicle search | Black                       |                  76 |                    6 | White - Any other White background                                        |                58 |                 10 |\n",
            "|  4 | Person and Vehicle search | Other                       |                  56 |                    8 | White - English/Welsh/Scottish/Northern Irish/British                     |              1268 |                  2 |\n",
            "|  5 | Person and Vehicle search | Other                       |                  56 |                    8 | White - Any other White background                                        |                58 |                 10 |\n",
            "|  6 | Person and Vehicle search | White                       |                1392 |                    2 | White - English/Welsh/Scottish/Northern Irish/British                     |              1268 |                  2 |\n",
            "|  7 | Person and Vehicle search | White                       |                1392 |                    2 | White - Any other White background                                        |                58 |                 10 |\n",
            "|  8 | Person search             | Asian                       |                 126 |                    4 | White - English/Welsh/Scottish/Northern Irish/British                     |              5616 |                  1 |\n",
            "|  9 | Person search             | Asian                       |                 126 |                    4 | Other ethnic group - Not stated                                           |               266 |                  3 |\n",
            "| 10 | Person search             | Asian                       |                 126 |                    4 | White - Any other White background                                        |               144 |                  4 |\n",
            "| 11 | Person search             | Asian                       |                 126 |                    4 | White - Irish                                                             |               120 |                  5 |\n",
            "| 12 | Person search             | Asian                       |                 126 |                    4 | Black/African/Caribbean/Black British - African                           |                78 |                  6 |\n",
            "| 13 | Person search             | Asian                       |                 126 |                    4 | Mixed/Multiple ethnic groups - Any other Mixed/Multiple ethnic background |                72 |                  7 |\n",
            "| 14 | Person search             | Asian                       |                 126 |                    4 | Other ethnic group - Arab                                                 |                64 |                  8 |\n",
            "| 15 | Person search             | Asian                       |                 126 |                    4 | Other ethnic group - Any other ethnic group                               |                60 |                  9 |\n",
            "| 16 | Person search             | Black                       |                 254 |                    3 | White - English/Welsh/Scottish/Northern Irish/British                     |              5616 |                  1 |\n",
            "| 17 | Person search             | Black                       |                 254 |                    3 | Other ethnic group - Not stated                                           |               266 |                  3 |\n",
            "| 18 | Person search             | Black                       |                 254 |                    3 | White - Any other White background                                        |               144 |                  4 |\n",
            "| 19 | Person search             | Black                       |                 254 |                    3 | White - Irish                                                             |               120 |                  5 |\n",
            "| 20 | Person search             | Black                       |                 254 |                    3 | Black/African/Caribbean/Black British - African                           |                78 |                  6 |\n",
            "| 21 | Person search             | Black                       |                 254 |                    3 | Mixed/Multiple ethnic groups - Any other Mixed/Multiple ethnic background |                72 |                  7 |\n",
            "| 22 | Person search             | Black                       |                 254 |                    3 | Other ethnic group - Arab                                                 |                64 |                  8 |\n",
            "| 23 | Person search             | Black                       |                 254 |                    3 | Other ethnic group - Any other ethnic group                               |                60 |                  9 |\n",
            "| 24 | Person search             | Other                       |                 108 |                    5 | White - English/Welsh/Scottish/Northern Irish/British                     |              5616 |                  1 |\n",
            "| 25 | Person search             | Other                       |                 108 |                    5 | Other ethnic group - Not stated                                           |               266 |                  3 |\n",
            "| 26 | Person search             | Other                       |                 108 |                    5 | White - Any other White background                                        |               144 |                  4 |\n",
            "| 27 | Person search             | Other                       |                 108 |                    5 | White - Irish                                                             |               120 |                  5 |\n",
            "| 28 | Person search             | Other                       |                 108 |                    5 | Black/African/Caribbean/Black British - African                           |                78 |                  6 |\n",
            "| 29 | Person search             | Other                       |                 108 |                    5 | Mixed/Multiple ethnic groups - Any other Mixed/Multiple ethnic background |                72 |                  7 |\n",
            "| 30 | Person search             | Other                       |                 108 |                    5 | Other ethnic group - Arab                                                 |                64 |                  8 |\n",
            "| 31 | Person search             | Other                       |                 108 |                    5 | Other ethnic group - Any other ethnic group                               |                60 |                  9 |\n",
            "| 32 | Person search             | White                       |                6126 |                    1 | White - English/Welsh/Scottish/Northern Irish/British                     |              5616 |                  1 |\n",
            "| 33 | Person search             | White                       |                6126 |                    1 | Other ethnic group - Not stated                                           |               266 |                  3 |\n",
            "| 34 | Person search             | White                       |                6126 |                    1 | White - Any other White background                                        |               144 |                  4 |\n",
            "| 35 | Person search             | White                       |                6126 |                    1 | White - Irish                                                             |               120 |                  5 |\n",
            "| 36 | Person search             | White                       |                6126 |                    1 | Black/African/Caribbean/Black British - African                           |                78 |                  6 |\n",
            "| 37 | Person search             | White                       |                6126 |                    1 | Mixed/Multiple ethnic groups - Any other Mixed/Multiple ethnic background |                72 |                  7 |\n",
            "| 38 | Person search             | White                       |                6126 |                    1 | Other ethnic group - Arab                                                 |                64 |                  8 |\n",
            "| 39 | Person search             | White                       |                6126 |                    1 | Other ethnic group - Any other ethnic group                               |                60 |                  9 |\n"
          ]
        }
      ]
    },
    {
      "cell_type": "markdown",
      "source": [
        "### **1.5 Top 10 Type by Gender = Male.**\n",
        "### **Expected Output:**\n",
        "### **type, num_events_men, rank_men**\n"
      ],
      "metadata": {
        "id": "vxVj1hsOaZkq"
      }
    },
    {
      "cell_type": "code",
      "source": [
        "df_male = df[df['Gender'] == 'Male']\n",
        "df_male = df_male.groupby(['Type']).size().to_frame('num_events_men').reset_index()\n",
        "df_male['rank_men'] = df_male['num_events_men'].rank(ascending=False)\n",
        "df_male = df_male.sort_values(by='rank_men').reset_index(drop=True)\n",
        "print(tabulate(df_male, headers='keys', tablefmt='github'))"
      ],
      "metadata": {
        "colab": {
          "base_uri": "https://localhost:8080/"
        },
        "id": "M7eaDW72XR0_",
        "outputId": "cda6fcdb-1c14-46cb-c09e-5656f9b093d7"
      },
      "execution_count": null,
      "outputs": [
        {
          "output_type": "stream",
          "name": "stdout",
          "text": [
            "|    | Type                      |   num_events_men |   rank_men |\n",
            "|----|---------------------------|------------------|------------|\n",
            "|  0 | Person search             |             5894 |          1 |\n",
            "|  1 | Person and Vehicle search |             1436 |          2 |\n"
          ]
        }
      ]
    },
    {
      "cell_type": "markdown",
      "source": [
        "### **1.6 type, num_events_men, rank_men**\n",
        "### **Top 10 Type by Gender = Female.**\n",
        "### **Expected Output:**\n",
        "### **type, num_events_men, rank_women**\n"
      ],
      "metadata": {
        "id": "iJDuOC1qjgox"
      }
    },
    {
      "cell_type": "code",
      "source": [
        "df_female = df[df['Gender'] == 'Female']\n",
        "df_female = df_female.groupby(['Type']).size().to_frame('num_events_women').reset_index()\n",
        "df_female['rank_women'] = df_female['num_events_women'].rank(ascending=False)\n",
        "df_female = df_female.sort_values(by='rank_women').reset_index(drop=True)\n",
        "print(tabulate(df_female, headers='keys', tablefmt='github'))"
      ],
      "metadata": {
        "colab": {
          "base_uri": "https://localhost:8080/"
        },
        "id": "fEUolCfZjUvV",
        "outputId": "378aca0f-e4e2-420f-cff2-9c013d5ae42d"
      },
      "execution_count": null,
      "outputs": [
        {
          "output_type": "stream",
          "name": "stdout",
          "text": [
            "|    | Type                      |   num_events_women |   rank_women |\n",
            "|----|---------------------------|--------------------|--------------|\n",
            "|  0 | Person search             |                750 |            1 |\n",
            "|  1 | Person and Vehicle search |                168 |            2 |\n"
          ]
        }
      ]
    },
    {
      "cell_type": "markdown",
      "source": [
        "### **1.7 Group bar chart plot (vertical) with output from 5 and 6.**\n",
        "### **Bar 1 -> Male**\n",
        "### **Bar 2 -> Female**\n"
      ],
      "metadata": {
        "id": "mzCQrL-BkE_D"
      }
    },
    {
      "cell_type": "code",
      "source": [
        "import seaborn as sns\n",
        "import matplotlib.pyplot as plt\n",
        "\n",
        "combined = df.groupby(['Type', 'Gender']).size().to_frame('num_events').reset_index()\n",
        "combined['rank'] = combined['num_events'].rank(ascending=False)\n",
        "combined = combined.sort_values(by='rank').reset_index(drop=True)\n",
        "print(tabulate(combined, headers='keys', tablefmt='github'))\n",
        "plt.figure(figsize=(5, 5))\n",
        "sns.barplot(data=combined, x='Type', y='num_events', hue='Gender')\n",
        "plt.title('Grouped Barchart')\n",
        "plt.xlabel('sales')\n",
        "plt.ylabel('Avg_time_spent_company')\n",
        "\n",
        "plt.show()"
      ],
      "metadata": {
        "colab": {
          "base_uri": "https://localhost:8080/",
          "height": 591
        },
        "id": "G1e-m_uEj3qN",
        "outputId": "dc099607-961f-4424-fdef-8e14861b67e6"
      },
      "execution_count": null,
      "outputs": [
        {
          "output_type": "stream",
          "name": "stdout",
          "text": [
            "|    | Type                      | Gender   |   num_events |   rank |\n",
            "|----|---------------------------|----------|--------------|--------|\n",
            "|  0 | Person search             | Male     |         5894 |      1 |\n",
            "|  1 | Person and Vehicle search | Male     |         1436 |      2 |\n",
            "|  2 | Person search             | Female   |          750 |      3 |\n",
            "|  3 | Person and Vehicle search | Female   |          168 |      4 |\n"
          ]
        },
        {
          "output_type": "display_data",
          "data": {
            "text/plain": [
              "<Figure size 500x500 with 1 Axes>"
            ],
            "image/png": "[encoded data removed]"
          },
          "metadata": {}
        }
      ]
    },
    {
      "cell_type": "markdown",
      "source": [
        "### **1.8 For Gender = Male, number events by “Age range”**\n",
        "### **Expected Output:**\n",
        "### **type, age_range_male, num_events_male, rank_male**\n"
      ],
      "metadata": {
        "id": "YcTgAaXrE36y"
      }
    },
    {
      "cell_type": "code",
      "source": [
        "df_male_age = df[df['Gender'] == 'Male']\n",
        "df_male_age = df_male_age.groupby(['Type', 'Age range']).size().to_frame('num_events_male').reset_index()\n",
        "df_male_age['rank_male'] = df_male_age['num_events_male'].rank(ascending=False)\n",
        "df_male_age = df_male_age.sort_values(by='rank_male').head(10).reset_index(drop=True)\n",
        "df_male_age.columns = ['Type', 'age_range_male', 'num_events_male', 'rank_male']\n",
        "\n",
        "print(tabulate(df_male_age, headers='keys', tablefmt='github'))"
      ],
      "metadata": {
        "id": "EKTsr-4jl0bf",
        "colab": {
          "base_uri": "https://localhost:8080/"
        },
        "outputId": "96d6c098-f8f4-4c2f-e213-c8c75813b432"
      },
      "execution_count": null,
      "outputs": [
        {
          "output_type": "stream",
          "name": "stdout",
          "text": [
            "|    | Type                      | age_range_male   |   num_events_male |   rank_male |\n",
            "|----|---------------------------|------------------|-------------------|-------------|\n",
            "|  0 | Person search             | over 34          |              2094 |           1 |\n",
            "|  1 | Person search             | 18-24            |              1414 |           2 |\n",
            "|  2 | Person search             | 25-34            |              1364 |           3 |\n",
            "|  3 | Person search             | 10-17            |              1006 |           4 |\n",
            "|  4 | Person and Vehicle search | over 34          |               518 |           5 |\n",
            "|  5 | Person and Vehicle search | 25-34            |               492 |           6 |\n",
            "|  6 | Person and Vehicle search | 18-24            |               386 |           7 |\n",
            "|  7 | Person and Vehicle search | 10-17            |                38 |           8 |\n"
          ]
        }
      ]
    },
    {
      "cell_type": "markdown",
      "source": [
        "### **1.9 For Gender = Female, number events by “Age range”**\n",
        "### **Expected Output:**\n",
        "### **type, age_range_female, num_events_female, rank_female**\n"
      ],
      "metadata": {
        "id": "8wKnXL0cHUqY"
      }
    },
    {
      "cell_type": "code",
      "source": [
        "df_female_age = df[df['Gender'] == 'Female']\n",
        "df_female_age = df_female_age.groupby(['Type', 'Age range']).size().to_frame('num_events_female').reset_index()\n",
        "df_female_age['rank_female'] = df_female_age['num_events_female'].rank(ascending=False)\n",
        "df_female_age = df_female_age.sort_values(by='rank_female').head(10).reset_index(drop=True)\n",
        "df_female_age.columns = ['Type', 'age_range_female', 'num_events_female', 'rank_female']\n",
        "print(tabulate(df_female_age, headers='keys', tablefmt='github'))"
      ],
      "metadata": {
        "colab": {
          "base_uri": "https://localhost:8080/"
        },
        "id": "9V-Ic_bHG5Oy",
        "outputId": "b196cec4-5142-4c8d-ede7-3fca64ab8e3d"
      },
      "execution_count": null,
      "outputs": [
        {
          "output_type": "stream",
          "name": "stdout",
          "text": [
            "|    | Type                      | age_range_female   |   num_events_female |   rank_female |\n",
            "|----|---------------------------|--------------------|---------------------|---------------|\n",
            "|  0 | Person search             | over 34            |                 304 |           1   |\n",
            "|  1 | Person search             | 25-34              |                 182 |           2   |\n",
            "|  2 | Person search             | 18-24              |                 150 |           3   |\n",
            "|  3 | Person search             | 10-17              |                 112 |           4   |\n",
            "|  4 | Person and Vehicle search | over 34            |                  56 |           5   |\n",
            "|  5 | Person and Vehicle search | 18-24              |                  52 |           6.5 |\n",
            "|  6 | Person and Vehicle search | 25-34              |                  52 |           6.5 |\n",
            "|  7 | Person and Vehicle search | 10-17              |                   8 |           8   |\n"
          ]
        }
      ]
    },
    {
      "cell_type": "markdown",
      "source": [
        "### **1.10 Merge 8 and 9 on column “type”**\n",
        "### **Expected Output:**\n",
        "### **type, age_range_male, num_events_male, rank_male, age_range_female, num_events_female, rank_female**\n"
      ],
      "metadata": {
        "id": "UYsQEeLXHp1b"
      }
    },
    {
      "cell_type": "code",
      "source": [
        "df_combined = df_male_age.merge(df_female_age, on=['Type'])\n",
        "print(tabulate(df_combined, headers='keys', tablefmt='github'))"
      ],
      "metadata": {
        "colab": {
          "base_uri": "https://localhost:8080/"
        },
        "id": "YAo8lEgfHkvU",
        "outputId": "b806622b-d6ec-4d22-dd08-35456990a58d"
      },
      "execution_count": null,
      "outputs": [
        {
          "output_type": "stream",
          "name": "stdout",
          "text": [
            "|    | Type                      | age_range_male   |   num_events_male |   rank_male | age_range_female   |   num_events_female |   rank_female |\n",
            "|----|---------------------------|------------------|-------------------|-------------|--------------------|---------------------|---------------|\n",
            "|  0 | Person search             | over 34          |              2094 |           1 | over 34            |                 304 |           1   |\n",
            "|  1 | Person search             | over 34          |              2094 |           1 | 25-34              |                 182 |           2   |\n",
            "|  2 | Person search             | over 34          |              2094 |           1 | 18-24              |                 150 |           3   |\n",
            "|  3 | Person search             | over 34          |              2094 |           1 | 10-17              |                 112 |           4   |\n",
            "|  4 | Person search             | 18-24            |              1414 |           2 | over 34            |                 304 |           1   |\n",
            "|  5 | Person search             | 18-24            |              1414 |           2 | 25-34              |                 182 |           2   |\n",
            "|  6 | Person search             | 18-24            |              1414 |           2 | 18-24              |                 150 |           3   |\n",
            "|  7 | Person search             | 18-24            |              1414 |           2 | 10-17              |                 112 |           4   |\n",
            "|  8 | Person search             | 25-34            |              1364 |           3 | over 34            |                 304 |           1   |\n",
            "|  9 | Person search             | 25-34            |              1364 |           3 | 25-34              |                 182 |           2   |\n",
            "| 10 | Person search             | 25-34            |              1364 |           3 | 18-24              |                 150 |           3   |\n",
            "| 11 | Person search             | 25-34            |              1364 |           3 | 10-17              |                 112 |           4   |\n",
            "| 12 | Person search             | 10-17            |              1006 |           4 | over 34            |                 304 |           1   |\n",
            "| 13 | Person search             | 10-17            |              1006 |           4 | 25-34              |                 182 |           2   |\n",
            "| 14 | Person search             | 10-17            |              1006 |           4 | 18-24              |                 150 |           3   |\n",
            "| 15 | Person search             | 10-17            |              1006 |           4 | 10-17              |                 112 |           4   |\n",
            "| 16 | Person and Vehicle search | over 34          |               518 |           5 | over 34            |                  56 |           5   |\n",
            "| 17 | Person and Vehicle search | over 34          |               518 |           5 | 18-24              |                  52 |           6.5 |\n",
            "| 18 | Person and Vehicle search | over 34          |               518 |           5 | 25-34              |                  52 |           6.5 |\n",
            "| 19 | Person and Vehicle search | over 34          |               518 |           5 | 10-17              |                   8 |           8   |\n",
            "| 20 | Person and Vehicle search | 25-34            |               492 |           6 | over 34            |                  56 |           5   |\n",
            "| 21 | Person and Vehicle search | 25-34            |               492 |           6 | 18-24              |                  52 |           6.5 |\n",
            "| 22 | Person and Vehicle search | 25-34            |               492 |           6 | 25-34              |                  52 |           6.5 |\n",
            "| 23 | Person and Vehicle search | 25-34            |               492 |           6 | 10-17              |                   8 |           8   |\n",
            "| 24 | Person and Vehicle search | 18-24            |               386 |           7 | over 34            |                  56 |           5   |\n",
            "| 25 | Person and Vehicle search | 18-24            |               386 |           7 | 18-24              |                  52 |           6.5 |\n",
            "| 26 | Person and Vehicle search | 18-24            |               386 |           7 | 25-34              |                  52 |           6.5 |\n",
            "| 27 | Person and Vehicle search | 18-24            |               386 |           7 | 10-17              |                   8 |           8   |\n",
            "| 28 | Person and Vehicle search | 10-17            |                38 |           8 | over 34            |                  56 |           5   |\n",
            "| 29 | Person and Vehicle search | 10-17            |                38 |           8 | 18-24              |                  52 |           6.5 |\n",
            "| 30 | Person and Vehicle search | 10-17            |                38 |           8 | 25-34              |                  52 |           6.5 |\n",
            "| 31 | Person and Vehicle search | 10-17            |                38 |           8 | 10-17              |                   8 |           8   |\n"
          ]
        }
      ]
    }
  ]
}